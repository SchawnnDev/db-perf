{
 "cells": [
  {
   "cell_type": "markdown",
   "id": "8a77807f92f26ee",
   "metadata": {},
   "source": [
    "# Projet Traitement Large Échelle\n",
    "\n",
    "Pour ce projet j'ai choisi d'utiliser RQLite comme base de données relationelle, et KeyDB comme base de données NoSQL.\n",
    "\n",
    "Nous allons tout d'abord étudier KeyDB, en détaillant son fonctionnement, puis en effectuant des tests de performance.\n",
    "\n",
    "Ensuite, nous ferons de même pour RQLite, et finalement nous comparerons les deux bases de données."
   ]
  },
  {
   "cell_type": "markdown",
   "id": "9065d64bcf307d17",
   "metadata": {
    "collapsed": false
   },
   "source": [
    "## Dataset\n",
    "\n",
    "Nous allons utiliser le dataset : https://opendata.paris.fr/explore/dataset/stationnement-sur-voie-publique-stationnement-interdit/\n",
    "\n",
    "Il contient les emplacements de stationnement interdit dans la ville de Paris.\n",
    "Ci-dessous un exemple de donnée."
   ]
  },
  {
   "cell_type": "code",
   "execution_count": 2,
   "id": "df7224d291d81869",
   "metadata": {
    "collapsed": false,
    "ExecuteTime": {
     "end_time": "2024-05-14T22:01:41.588210198Z",
     "start_time": "2024-05-14T22:01:29.777992014Z"
    }
   },
   "outputs": [
    {
     "name": "stdout",
     "output_type": "stream",
     "text": [
      "Collecting pandas\r\n",
      "  Obtaining dependency information for pandas from https://files.pythonhosted.org/packages/40/10/79e52ef01dfeb1c1ca47a109a01a248754ebe990e159a844ece12914de83/pandas-2.2.2-cp312-cp312-manylinux_2_17_x86_64.manylinux2014_x86_64.whl.metadata\r\n",
      "  Downloading pandas-2.2.2-cp312-cp312-manylinux_2_17_x86_64.manylinux2014_x86_64.whl.metadata (19 kB)\r\n",
      "Collecting numpy>=1.26.0 (from pandas)\r\n",
      "  Obtaining dependency information for numpy>=1.26.0 from https://files.pythonhosted.org/packages/0f/50/de23fde84e45f5c4fda2488c759b69990fd4512387a8632860f3ac9cd225/numpy-1.26.4-cp312-cp312-manylinux_2_17_x86_64.manylinux2014_x86_64.whl.metadata\r\n",
      "  Downloading numpy-1.26.4-cp312-cp312-manylinux_2_17_x86_64.manylinux2014_x86_64.whl.metadata (61 kB)\r\n",
      "\u001B[2K     \u001B[90m━━━━━━━━━━━━━━━━━━━━━━━━━━━━━━━━━━━━━━━━\u001B[0m \u001B[32m61.0/61.0 kB\u001B[0m \u001B[31m2.6 MB/s\u001B[0m eta \u001B[36m0:00:00\u001B[0m\r\n",
      "\u001B[?25hRequirement already satisfied: python-dateutil>=2.8.2 in ./venv/lib/python3.12/site-packages (from pandas) (2.9.0.post0)\r\n",
      "Collecting pytz>=2020.1 (from pandas)\r\n",
      "  Obtaining dependency information for pytz>=2020.1 from https://files.pythonhosted.org/packages/9c/3d/a121f284241f08268b21359bd425f7d4825cffc5ac5cd0e1b3d82ffd2b10/pytz-2024.1-py2.py3-none-any.whl.metadata\r\n",
      "  Using cached pytz-2024.1-py2.py3-none-any.whl.metadata (22 kB)\r\n",
      "Collecting tzdata>=2022.7 (from pandas)\r\n",
      "  Obtaining dependency information for tzdata>=2022.7 from https://files.pythonhosted.org/packages/65/58/f9c9e6be752e9fcb8b6a0ee9fb87e6e7a1f6bcab2cdc73f02bb7ba91ada0/tzdata-2024.1-py2.py3-none-any.whl.metadata\r\n",
      "  Using cached tzdata-2024.1-py2.py3-none-any.whl.metadata (1.4 kB)\r\n",
      "Requirement already satisfied: six>=1.5 in ./venv/lib/python3.12/site-packages (from python-dateutil>=2.8.2->pandas) (1.16.0)\r\n",
      "Downloading pandas-2.2.2-cp312-cp312-manylinux_2_17_x86_64.manylinux2014_x86_64.whl (12.7 MB)\r\n",
      "\u001B[2K   \u001B[90m━━━━━━━━━━━━━━━━━━━━━━━━━━━━━━━━━━━━━━━━\u001B[0m \u001B[32m12.7/12.7 MB\u001B[0m \u001B[31m45.6 MB/s\u001B[0m eta \u001B[36m0:00:00\u001B[0m00:01\u001B[0m00:01\u001B[0m\r\n",
      "\u001B[?25hDownloading numpy-1.26.4-cp312-cp312-manylinux_2_17_x86_64.manylinux2014_x86_64.whl (18.0 MB)\r\n",
      "\u001B[2K   \u001B[90m━━━━━━━━━━━━━━━━━━━━━━━━━━━━━━━━━━━━━━━━\u001B[0m \u001B[32m18.0/18.0 MB\u001B[0m \u001B[31m48.3 MB/s\u001B[0m eta \u001B[36m0:00:00\u001B[0m00:01\u001B[0m00:01\u001B[0m\r\n",
      "\u001B[?25hUsing cached pytz-2024.1-py2.py3-none-any.whl (505 kB)\r\n",
      "Using cached tzdata-2024.1-py2.py3-none-any.whl (345 kB)\r\n",
      "Installing collected packages: pytz, tzdata, numpy, pandas\r\n",
      "Successfully installed numpy-1.26.4 pandas-2.2.2 pytz-2024.1 tzdata-2024.1\r\n",
      "\r\n",
      "\u001B[1m[\u001B[0m\u001B[34;49mnotice\u001B[0m\u001B[1;39;49m]\u001B[0m\u001B[39;49m A new release of pip is available: \u001B[0m\u001B[31;49m23.2.1\u001B[0m\u001B[39;49m -> \u001B[0m\u001B[32;49m24.0\u001B[0m\r\n",
      "\u001B[1m[\u001B[0m\u001B[34;49mnotice\u001B[0m\u001B[1;39;49m]\u001B[0m\u001B[39;49m To update, run: \u001B[0m\u001B[32;49mpip install --upgrade pip\u001B[0m\r\n"
     ]
    }
   ],
   "source": [
    "!pip install pandas"
   ]
  },
  {
   "cell_type": "code",
   "execution_count": 3,
   "id": "9a30276e5766ed29",
   "metadata": {
    "collapsed": false,
    "ExecuteTime": {
     "end_time": "2024-05-14T22:01:42.655708226Z",
     "start_time": "2024-05-14T22:01:41.596205430Z"
    }
   },
   "outputs": [
    {
     "name": "stdout",
     "output_type": "stream",
     "text": [
      "<class 'pandas.core.frame.DataFrame'>\n",
      "RangeIndex: 22533 entries, 0 to 22532\n",
      "Data columns (total 34 columns):\n",
      " #   Column                  Non-Null Count  Dtype  \n",
      "---  ------                  --------------  -----  \n",
      " 0   id                      11126 non-null  float64\n",
      " 1   id_old                  11407 non-null  object \n",
      " 2   regpri                  22533 non-null  object \n",
      " 3   regpar                  22533 non-null  object \n",
      " 4   arrond                  21021 non-null  float64\n",
      " 5   zoneres                 21021 non-null  object \n",
      " 6   tar                     21021 non-null  object \n",
      " 7   typevoie                22533 non-null  object \n",
      " 8   nomvoie                 22533 non-null  object \n",
      " 9   parite                  22517 non-null  object \n",
      " 10  lon                     22533 non-null  float64\n",
      " 11  longueur_calculee       22533 non-null  float64\n",
      " 12  signhor                 22533 non-null  object \n",
      " 13  signvert                22533 non-null  object \n",
      " 14  confsign                22533 non-null  object \n",
      " 15  plage_hor1_debut        745 non-null    object \n",
      " 16  plage_hor1_fin          745 non-null    object \n",
      " 17  plage_hor2_debut        733 non-null    object \n",
      " 18  plage_hor2_fin          733 non-null    object \n",
      " 19  plage_hor3_debut        1 non-null      object \n",
      " 20  plage_hor3_fin          1 non-null      object \n",
      " 21  datereleve              22533 non-null  object \n",
      " 22  mtlast_edit_date_field  22533 non-null  object \n",
      " 23  c_voie_vp               22533 non-null  object \n",
      " 24  n_sq_tv                 22533 non-null  int64  \n",
      " 25  numilot                 0 non-null      float64\n",
      " 26  numiris                 0 non-null      float64\n",
      " 27  zoneasp                 21021 non-null  object \n",
      " 28  stv                     21021 non-null  object \n",
      " 29  prefet                  0 non-null      float64\n",
      " 30  n_voieadd               22533 non-null  int64  \n",
      " 31  n_voieadf               22533 non-null  int64  \n",
      " 32  geo_shape               22533 non-null  object \n",
      " 33  geo_point_2d            22533 non-null  object \n",
      "dtypes: float64(7), int64(3), object(24)\n",
      "memory usage: 5.8+ MB\n",
      "None\n"
     ]
    }
   ],
   "source": [
    "import pandas as pd\n",
    "\n",
    "file_path = 'data/stationnement-sur-voie-publique-stationnement-interdit.json'\n",
    "df = pd.read_json(file_path)\n",
    "\n",
    "print(df.info())"
   ]
  },
  {
   "cell_type": "markdown",
   "id": "79e920a69dbdea7f",
   "metadata": {},
   "source": [
    "## Présentation de KeyDB\n",
    "\n",
    "KeyDB est une version améliorée de Redis axée sur le multithreading, l'efficacité mémoire et le débit élevé.\n",
    "Il conserve une compatibilité totale avec le protocole, les modules et les scripts Redis, tout en offrant des améliorations de performance telles que la réplication active et le stockage FLASH.\n",
    "\n",
    "Grâce à son architecture MVCC, KeyDB permet l'exécution de requêtes telles que KEYS et SCAN sans bloquer la base de données ni dégrader les performances.\n",
    "En utilisant le même matériel, KeyDB peut atteindre un débit significativement plus élevé que Redis.\n",
    " \n",
    "Son architecture multithread simplifie la répartition des charges et permet une utilisation plus efficace des ressources matérielles. \n",
    "En outre, KeyDB offre une compatibilité avec les derniers développements de Redis, ce qui en fait un substitut direct pour les déploiements existants.\n",
    "\n",
    "Sachant que KeyDB est un fork de redis, et qu'il est régulièrement synchronizé avec, il reste compatible avec tout les modules/extensions de Redis, nous parlerons donc de KeyDB/Redis.\n",
    "\n",
    "KeyDB est généralement utilisé comme cache en raison de sa vitesse. Cependant, il peut faire bien plus grâce à ses modules. Ces extensions ajoutent des fonctionnalités comme la recherche en texte intégral, le traitement de données géospatiales, un moteur de recherche. Ainsi, bien qu'il soit souvent vu comme un simple cache, KeyDB peut s'adapter à une variété de cas d'utilisation grâce à ses modules, devenant ainsi une solution polyvalente pour divers besoins d'application.\n",
    "\n",
    "Quelques avantages de KeyDB:\n",
    "\n",
    "- Performances élevées : KeyDB offre des performances exceptionnelles grâce à son architecture multithreadée\n",
    "- Compatibilité avec Redis : La compatibilité avec Redis permet aux utilisateurs de migrer facilement vers KeyDB sans nécessiter de modifications majeures du code\n",
    "- Support de la communauté et des entreprises : Le projet est plutôt récent, mais bénéficie d'un soutien actif de la part de la communauté open-source ainsi que de certaines entreprises, assurant un développement continu et un support fiable.\n",
    "\n",
    "Mais également quelques inconvénients\n",
    "\n",
    "- Fonctionnalités limitées : Comparé à certains systèmes NoSQL plus établis, KeyDB peut manquer de certaines fonctionnalités avancées ou spécialisées, ce qui peut limiter son utilisation dans certains cas d'utilisation spécifiques.\n",
    "- Documentation moins complète : Par rapport à des systèmes NoSQL plus populaires et matures, la documentation et les ressources d'apprentissage disponibles pour KeyDB peuvent être moins abondantes, ce qui peut poser des défis pour les nouveaux utilisateurs.\n",
    "- Maturité relative : En tant que projet plutôt récent, KeyDB peut encore manquer de la stabilité et de la maturité des systèmes NoSQL plus établis, ce qui peut entraîner des problèmes potentiels de fiabilité ou de compatibilité.\n",
    "- Dépendance aux threads : Bien que l'architecture multithreadée soit un avantage pour les performances, elle peut également introduire des complexités supplémentaires en matière de gestion des threads et de la concurrence dans le code, ce qui peut être un inconvénient pour certains développeurs."
   ]
  },
  {
   "cell_type": "markdown",
   "id": "6b2c17c8cbd77238",
   "metadata": {},
   "source": [
    "### Installation et démarrage\n",
    "\n",
    "Il est nécessaire d'avoir docker installé sur votre machine."
   ]
  },
  {
   "cell_type": "code",
   "execution_count": 4,
   "id": "fbc121e30a2defb3",
   "metadata": {
    "jupyter": {
     "is_executing": true
    },
    "ExecuteTime": {
     "end_time": "2024-05-14T22:01:43.363135570Z",
     "start_time": "2024-05-14T22:01:42.658476773Z"
    }
   },
   "outputs": [
    {
     "name": "stdout",
     "output_type": "stream",
     "text": [
      "5c50805ffcd491c777c132724c001e6f307b2738ca869bd355f9097531156616\r\n"
     ]
    }
   ],
   "source": [
    "!docker run -p 6379:6379 --rm --name keydb-server -d eqalpha/keydb keydb-server /etc/keydb/keydb.conf --server-threads 4"
   ]
  },
  {
   "cell_type": "markdown",
   "id": "6a62f3e6d962b87c",
   "metadata": {
    "collapsed": false
   },
   "source": [
    "Nous allons commencer par faire des tests de performance pour des opérations de CRUD.\n",
    "\n",
    "Pour celà, il suffit d'installer la librairie redis, puis de se connecter au serveur KeyDB."
   ]
  },
  {
   "cell_type": "code",
   "execution_count": 5,
   "id": "abe0c95b463dc1f4",
   "metadata": {
    "ExecuteTime": {
     "end_time": "2024-05-14T22:01:45.466458068Z",
     "start_time": "2024-05-14T22:01:43.365054773Z"
    }
   },
   "outputs": [
    {
     "name": "stdout",
     "output_type": "stream",
     "text": [
      "Collecting redis\r\n",
      "  Obtaining dependency information for redis from https://files.pythonhosted.org/packages/65/f2/540ad07910732733138beb192991c67c69e7f6ebf549ce1a3a77846cbae7/redis-5.0.4-py3-none-any.whl.metadata\r\n",
      "  Using cached redis-5.0.4-py3-none-any.whl.metadata (9.3 kB)\r\n",
      "Using cached redis-5.0.4-py3-none-any.whl (251 kB)\r\n",
      "Installing collected packages: redis\r\n",
      "Successfully installed redis-5.0.4\r\n",
      "\r\n",
      "\u001B[1m[\u001B[0m\u001B[34;49mnotice\u001B[0m\u001B[1;39;49m]\u001B[0m\u001B[39;49m A new release of pip is available: \u001B[0m\u001B[31;49m23.2.1\u001B[0m\u001B[39;49m -> \u001B[0m\u001B[32;49m24.0\u001B[0m\r\n",
      "\u001B[1m[\u001B[0m\u001B[34;49mnotice\u001B[0m\u001B[1;39;49m]\u001B[0m\u001B[39;49m To update, run: \u001B[0m\u001B[32;49mpip install --upgrade pip\u001B[0m\r\n"
     ]
    }
   ],
   "source": [
    "!pip install redis"
   ]
  },
  {
   "cell_type": "code",
   "execution_count": 6,
   "outputs": [],
   "source": [
    "import redis\n",
    "import os\n",
    "import platform\n",
    "import time\n",
    "import datetime\n",
    "import math"
   ],
   "metadata": {
    "collapsed": false,
    "ExecuteTime": {
     "end_time": "2024-05-14T22:01:45.640338253Z",
     "start_time": "2024-05-14T22:01:45.475717897Z"
    }
   },
   "id": "12791455611b3db8"
  },
  {
   "cell_type": "code",
   "execution_count": 7,
   "id": "73ef342dcd9f10c4",
   "metadata": {
    "collapsed": false,
    "ExecuteTime": {
     "end_time": "2024-05-14T22:01:45.647594511Z",
     "start_time": "2024-05-14T22:01:45.643809299Z"
    }
   },
   "outputs": [],
   "source": [
    "# Connect to KeyDB\n",
    "keydb_host = 'localhost'\n",
    "keydb_port = 6379  # Default KeyDB port\n",
    "\n",
    "# Create a connection to KeyDB\n",
    "r = redis.Redis(host=keydb_host, port=keydb_port)"
   ]
  },
  {
   "cell_type": "markdown",
   "id": "509f69cc7238a483",
   "metadata": {
    "collapsed": false
   },
   "source": [
    "### Tests de performances\n",
    "\n",
    "Toutes les mesures / serveurs tournent en local sur un PC qui contient:"
   ]
  },
  {
   "cell_type": "code",
   "execution_count": 8,
   "id": "8b360e7bfff6fb98",
   "metadata": {
    "collapsed": false,
    "ExecuteTime": {
     "end_time": "2024-05-14T22:01:45.656692372Z",
     "start_time": "2024-05-14T22:01:45.649479824Z"
    }
   },
   "outputs": [
    {
     "name": "stdout",
     "output_type": "stream",
     "text": [
      "System Information:\n",
      "System: Linux\n",
      "Release: 6.5.13-1-MANJARO\n",
      "Version: #1 SMP PREEMPT_DYNAMIC Tue Nov 28 20:33:05 UTC 2023\n",
      "Machine: x86_64\n"
     ]
    }
   ],
   "source": [
    "system_info = platform.uname()\n",
    "\n",
    "print(\"System Information:\")\n",
    "print(f\"System: {system_info.system}\")\n",
    "print(f\"Release: {system_info.release}\")\n",
    "print(f\"Version: {system_info.version}\")\n",
    "print(f\"Machine: {system_info.machine}\")"
   ]
  },
  {
   "cell_type": "code",
   "execution_count": 9,
   "id": "c63ac22bbf50ba1b",
   "metadata": {
    "collapsed": false,
    "ExecuteTime": {
     "end_time": "2024-05-14T22:01:45.791387711Z",
     "start_time": "2024-05-14T22:01:45.656502885Z"
    }
   },
   "outputs": [
    {
     "name": "stdout",
     "output_type": "stream",
     "text": [
      "model name\t: Intel(R) Core(TM) i5-10210U CPU @ 1.60GHz\r\n"
     ]
    }
   ],
   "source": [
    "!grep -m 1 'model name' /proc/cpuinfo"
   ]
  },
  {
   "cell_type": "code",
   "execution_count": 10,
   "id": "18bcc1226d54060f",
   "metadata": {
    "collapsed": false,
    "ExecuteTime": {
     "end_time": "2024-05-14T22:01:45.792913048Z",
     "start_time": "2024-05-14T22:01:45.779094952Z"
    }
   },
   "outputs": [
    {
     "name": "stdout",
     "output_type": "stream",
     "text": [
      "530001D20131119153127\n"
     ]
    }
   ],
   "source": [
    "first = df.head(1)\n",
    "\n",
    "first_id_old = first.id_old.iloc[0]\n",
    "print(first_id_old)"
   ]
  },
  {
   "cell_type": "markdown",
   "id": "72e239b90d0f3f8d",
   "metadata": {
    "collapsed": false
   },
   "source": [
    "#### Insertion d'un champ"
   ]
  },
  {
   "cell_type": "code",
   "execution_count": 11,
   "id": "98ca86e279af1d0d",
   "metadata": {
    "collapsed": false,
    "ExecuteTime": {
     "end_time": "2024-05-14T22:01:45.797104854Z",
     "start_time": "2024-05-14T22:01:45.788538159Z"
    }
   },
   "outputs": [
    {
     "name": "stdout",
     "output_type": "stream",
     "text": [
      "insertion time: 0:00:00.002359\n"
     ]
    }
   ],
   "source": [
    "structure = str(first.iloc[0])\n",
    "\n",
    "start_time = time.time()\n",
    "r.set(first_id_old, str(first.to_json()))\n",
    "end_time = time.time()\n",
    "\n",
    "time_taken_insertion = end_time - start_time\n",
    "print(\"insertion time:\", str(datetime.timedelta(seconds=time_taken_insertion)))"
   ]
  },
  {
   "cell_type": "markdown",
   "id": "64605ed0a176b7d3",
   "metadata": {
    "collapsed": false
   },
   "source": [
    "#### Lecture d'un champ"
   ]
  },
  {
   "cell_type": "code",
   "execution_count": 12,
   "id": "df71d13fcc6bf9dc",
   "metadata": {
    "collapsed": false,
    "ExecuteTime": {
     "end_time": "2024-05-14T22:01:45.804962024Z",
     "start_time": "2024-05-14T22:01:45.794978543Z"
    }
   },
   "outputs": [
    {
     "name": "stdout",
     "output_type": "stream",
     "text": [
      "read time: 0:00:00.000524\n"
     ]
    }
   ],
   "source": [
    "start_time = time.time()\n",
    "found = r.get(first_id_old)\n",
    "end_time = time.time()\n",
    "\n",
    "if found is not None:\n",
    "    time_taken_read = end_time - start_time\n",
    "    print(\"read time:\", str(datetime.timedelta(seconds=time_taken_read)))\n",
    "else:\n",
    "    print(\"no row found\")"
   ]
  },
  {
   "cell_type": "markdown",
   "id": "1ba7c528e5d9759a",
   "metadata": {
    "collapsed": false
   },
   "source": [
    "#### Mise à jour d'un champ déjà existant\n",
    "\n",
    "KeyDB est une base de données clés/valeurs, donc il n'y a pas de \"mise à jour\" proprement dite, mais juste une réécriture.\n",
    "Cependant, KeyDB/Redis possède un type de données hashset, qui permet de stocker une sorte de hashmap dans une clé, c'est ce qu'on pourra benchmark et comparer par la suite."
   ]
  },
  {
   "cell_type": "code",
   "execution_count": 13,
   "id": "eb37571598107507",
   "metadata": {
    "collapsed": false,
    "ExecuteTime": {
     "end_time": "2024-05-14T22:01:45.814637776Z",
     "start_time": "2024-05-14T22:01:45.804808755Z"
    }
   },
   "outputs": [
    {
     "name": "stdout",
     "output_type": "stream",
     "text": [
      "update time: 0:00:00.000825\n"
     ]
    }
   ],
   "source": [
    "structure = str(first.iloc[0])\n",
    "\n",
    "start_time = time.time()\n",
    "r.set(first_id_old, str(first.to_json()) * 2)\n",
    "end_time = time.time()\n",
    "\n",
    "time_taken_update = end_time - start_time\n",
    "print(\"update time:\", str(datetime.timedelta(seconds=time_taken_update)))"
   ]
  },
  {
   "cell_type": "markdown",
   "id": "e012a80e03b9c0aa",
   "metadata": {
    "collapsed": false
   },
   "source": [
    "#### Suppression d'un champ"
   ]
  },
  {
   "cell_type": "code",
   "execution_count": 14,
   "id": "20aac0e38a6c1587",
   "metadata": {
    "collapsed": false,
    "ExecuteTime": {
     "end_time": "2024-05-14T22:01:45.912152578Z",
     "start_time": "2024-05-14T22:01:45.811505360Z"
    }
   },
   "outputs": [
    {
     "name": "stdout",
     "output_type": "stream",
     "text": [
      "deletion time: 0:00:00.000587\n"
     ]
    }
   ],
   "source": [
    "start_time = time.time()\n",
    "deleted_ct = r.delete(first_id_old)\n",
    "end_time = time.time()\n",
    "\n",
    "if deleted_ct == 1:\n",
    "    time_taken_deletion = end_time - start_time\n",
    "    print(\"deletion time:\", str(datetime.timedelta(seconds=time_taken_deletion)))\n",
    "else:\n",
    "    print(\"no row deleted\")"
   ]
  },
  {
   "cell_type": "markdown",
   "id": "ea1a658523b7d3be",
   "metadata": {
    "collapsed": false
   },
   "source": [
    "#### Quelques observations\n",
    "\n",
    "On remarque que les temps sont extrêmement réduits, et que tout se passe en microsecondes."
   ]
  },
  {
   "cell_type": "markdown",
   "source": [
    "#### Insertion du dataset complet\n",
    "\n",
    "Il existe deux techniques, insertions l'une après l'autre des données ou l'insertion en masse.\n",
    "\n",
    "L'insertion en masse est une technique nécessitant de suivre un protocole dédié à KeyDB.\n",
    "Elle permet une insertion très rapide de beaucoup de données, car chaque SET unique est une opération à part entière et devient très vite, en cas d'un grand nombre de clés, une solution très lente et à éviter.\n",
    "\n",
    "Nous n'allons pas étudier les résultats de l'insertion en masse, mais je vais vous présenter comment cela fonctionne.\n",
    "\n",
    "Le protocole qu'il faut suivre se présente comme ci-dessous, prenons par exemple la commande <b>SET key value</b> :\n",
    "\n",
    "```\n",
    "*3<cr><lf>     <- On détermine d'abord le nombre d'arguments\n",
    "$3<cr><lf>     <- Longueur de la commande\n",
    "SET<cr><lf>    <- Commande SET\n",
    "$3<cr><lf>     <- Longueur de la clé\n",
    "key<cr><lf>    <- Valeur de la clé \n",
    "$5<cr><lf>     <- Longueur de valeur\n",
    "value<cr><lf>  <- Valeur\n",
    "```\n",
    "\n",
    "Ainsi sur une ligne celà ressemblerait à :\n",
    "\n",
    "`\"*3\\r\\n$3\\r\\nSET\\r\\n$3\\r\\nkey\\r\\n$5\\r\\nvalue\\r\\n\"`\n",
    "\n",
    "Il suffit donc de faire un script qui transforme les données d'entrée en suivant ce protocole, puis :\n",
    "\n",
    "`$ python conv.py data/stationnement-sur-voie-publique-stationnement-interdit.json | keydb-cli --pipe`\n",
    "\n",
    "#### Insertion séquentielle complète du dataset"
   ],
   "metadata": {
    "collapsed": false
   },
   "id": "203773a232e0c33b"
  },
  {
   "cell_type": "code",
   "execution_count": 15,
   "outputs": [
    {
     "name": "stdout",
     "output_type": "stream",
     "text": [
      "total dataset insertion time (success: 22533/22533) 0:00:06.041676\n"
     ]
    }
   ],
   "source": [
    "start_time = time.time()\n",
    "total = 0\n",
    "skipped = 0\n",
    "\n",
    "for index, row in df.iterrows():\n",
    "    id_old = row['id_old']\n",
    "    if id_old is None:\n",
    "        id_old = row['id']\n",
    "    if id_old is None:\n",
    "        skipped += 1\n",
    "        continue\n",
    "    structure = str(row.to_json())\n",
    "    r.set(id_old, structure)\n",
    "    total += 1\n",
    "\n",
    "end_time = time.time()\n",
    "\n",
    "time_taken_total_insertion = end_time - start_time\n",
    "print(\"total dataset insertion time (success: %d/%d)\" % (total, total+skipped), str(datetime.timedelta(seconds=time_taken_total_insertion)))"
   ],
   "metadata": {
    "collapsed": false,
    "ExecuteTime": {
     "end_time": "2024-05-14T22:01:51.860691893Z",
     "start_time": "2024-05-14T22:01:45.818093279Z"
    }
   },
   "id": "12fc51f913bdc4b2"
  },
  {
   "cell_type": "code",
   "execution_count": 16,
   "outputs": [],
   "source": [
    "def convert_size(size_bytes):\n",
    "   if size_bytes == 0:\n",
    "       return \"0B\"\n",
    "   size_name = (\"B\", \"KB\", \"MB\", \"GB\", \"TB\", \"PB\", \"EB\", \"ZB\", \"YB\")\n",
    "   i = int(math.floor(math.log(size_bytes, 1024)))\n",
    "   p = math.pow(1024, i)\n",
    "   s = round(size_bytes / p, 2)\n",
    "   return \"%s %s\" % (s, size_name[i])"
   ],
   "metadata": {
    "collapsed": false,
    "ExecuteTime": {
     "end_time": "2024-05-14T22:01:51.874537880Z",
     "start_time": "2024-05-14T22:01:51.863982659Z"
    }
   },
   "id": "c77bd180ceb1daf5"
  },
  {
   "cell_type": "code",
   "execution_count": 17,
   "outputs": [
    {
     "data": {
      "text/plain": "'25.07 MB'"
     },
     "execution_count": 17,
     "metadata": {},
     "output_type": "execute_result"
    }
   ],
   "source": [
    "convert_size(os.path.getsize(\"data/stationnement-sur-voie-publique-stationnement-interdit.json\"))"
   ],
   "metadata": {
    "collapsed": false,
    "ExecuteTime": {
     "end_time": "2024-05-14T22:01:51.883225230Z",
     "start_time": "2024-05-14T22:01:51.868183800Z"
    }
   },
   "id": "22cba5217c2ba62c"
  },
  {
   "cell_type": "markdown",
   "source": [
    "On remarque que pour un dataset contenant <b>22533</b> clés et d'une grandeur totale de <b>25 MB</b>, on prend 6 secondes."
   ],
   "metadata": {
    "collapsed": false
   },
   "id": "2cb5ec9945cf4628"
  },
  {
   "cell_type": "markdown",
   "id": "1634247b080afc3c",
   "metadata": {
    "collapsed": false
   },
   "source": [
    "### À propos du partitionnement\n",
    "\n",
    "Le partitionnement dans KeyDB divise les données entre plusieurs instances pour améliorer les performances et la capacité de stockage.\n",
    "Pour se faire, deux méthodes principales sont utilisées : \n",
    "\n",
    "1) Le partitionnement par plage: il consiste à mapper des plages d'objets sur des instances spécifiques de KeyDB. Par exemple, on peut décider que les utilisateurs avec des identifiants de 0 à 10000 seront stockés dans l'instance R0, tandis que les utilisateurs avec des identifiants de 10001 à 20000 seront stockés dans l'instance R1, et ainsi de suite. Bien que ce système soit simple, il nécessite une table de correspondance des plages vers les instances, ce qui peut être inefficace à grande échelle.\n",
    "\n",
    "2) Le partitionnement par hachage: il fonctionne avec n'importe quelle clé et est réalisé en deux étapes simples : d'abord, on applique une fonction de hachage à la clé pour obtenir un nombre, puis on effectue une opération modulo pour mapper ce nombre sur une instance spécifique de KeyDB. Par exemple, si la clé est \"foobar\" et que le résultat du hachage modulo 4 est 2, alors la clé \"foobar\" sera stockée dans l'instance R2 de KeyDB. Ce système est plus flexible et ne nécessite pas de table de correspondance."
   ]
  },
  {
   "cell_type": "markdown",
   "id": "45857cd31a026c3c",
   "metadata": {},
   "source": [
    "## Présentation de RQLite\n",
    "\n",
    "RQLite est une base de données relationnelle qui combine la simplicité de SQLite avec la fiabilité d'un système distribué robuste. Il est facile à déployer et à utiliser. Basé sur SQLite, il assure le stockage fiable des données tout en offrant des fonctionnalités distribuées.\n",
    "\n",
    "Quelques avantages:\n",
    "\n",
    "- Léger et intégrable: rqlite est une base de données légère qui peut être facilement intégrée aux applications existantes.\n",
    "- Distribué et tolérant aux pannes: rqlite réplique les données sur plusieurs nœuds, ce qui permet de maintenir la disponibilité des données même en cas de défaillance d'un nœud.\n",
    "- Durable: rqlite prend en charge les transactions ACID, ce qui garantit l'intégrité des données.\n",
    "- Scalable: rqlite peut être facilement mise à l'échelle horizontalement en ajoutant des nœuds supplémentaires au cluster."
   ]
  },
  {
   "cell_type": "code",
   "execution_count": 17,
   "id": "babeeb03fb2f237b",
   "metadata": {
    "collapsed": false,
    "ExecuteTime": {
     "end_time": "2024-05-14T22:01:51.925218208Z",
     "start_time": "2024-05-14T22:01:51.879970005Z"
    }
   },
   "outputs": [],
   "source": []
  }
 ],
 "metadata": {
  "kernelspec": {
   "display_name": "Python 3 (ipykernel)",
   "language": "python",
   "name": "python3"
  },
  "language_info": {
   "codemirror_mode": {
    "name": "ipython",
    "version": 3
   },
   "file_extension": ".py",
   "mimetype": "text/x-python",
   "name": "python",
   "nbconvert_exporter": "python",
   "pygments_lexer": "ipython3",
   "version": "3.11.8"
  }
 },
 "nbformat": 4,
 "nbformat_minor": 5
}
