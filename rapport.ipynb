{
 "cells": [
  {
   "cell_type": "markdown",
   "id": "8a77807f92f26ee",
   "metadata": {},
   "source": [
    "# Projet Traitement Large Échelle\n",
    "\n",
    "Pour ce projet j'ai choisi d'utiliser RQLite comme base de données relationelle, et KeyDB comme base de données NoSQL.\n",
    "\n",
    "Nous allons tout d'abord étudier KeyDB, en détaillant son fonctionnement, puis en effectuant des tests de performance.\n",
    "\n",
    "Ensuite, nous ferons de même pour RQLite, et finalement nous comparerons les deux bases de données."
   ]
  },
  {
   "cell_type": "markdown",
   "id": "9065d64bcf307d17",
   "metadata": {
    "collapsed": false,
    "jupyter": {
     "outputs_hidden": false
    }
   },
   "source": [
    "## Dataset\n",
    "\n",
    "Nous allons utiliser le dataset : https://opendata.paris.fr/explore/dataset/stationnement-sur-voie-publique-stationnement-interdit/\n",
    "\n",
    "Il contient les emplacements de stationnement interdit dans la ville de Paris.\n",
    "Ci-dessous un exemple de donnée."
   ]
  },
  {
   "cell_type": "code",
   "execution_count": 1,
   "id": "e3835b64-607a-4342-ad55-02bc2fedf61f",
   "metadata": {
    "execution": {
     "iopub.execute_input": "2024-06-02T12:29:59.936791Z",
     "iopub.status.busy": "2024-06-02T12:29:59.936640Z",
     "iopub.status.idle": "2024-06-02T12:30:01.117594Z",
     "shell.execute_reply": "2024-06-02T12:30:01.117066Z",
     "shell.execute_reply.started": "2024-06-02T12:29:59.936774Z"
    }
   },
   "outputs": [
    {
     "name": "stdout",
     "output_type": "stream",
     "text": [
      "Defaulting to user installation because normal site-packages is not writeable\n",
      "Requirement already satisfied: pandas in /home/polo/.local/lib/python3.10/site-packages (2.2.2)\n",
      "Requirement already satisfied: numpy>=1.22.4 in /home/polo/.local/lib/python3.10/site-packages (from pandas) (1.26.4)\n",
      "Requirement already satisfied: python-dateutil>=2.8.2 in /home/polo/.local/lib/python3.10/site-packages (from pandas) (2.9.0.post0)\n",
      "Requirement already satisfied: pytz>=2020.1 in /usr/lib/python3/dist-packages (from pandas) (2022.1)\n",
      "Requirement already satisfied: tzdata>=2022.7 in /home/polo/.local/lib/python3.10/site-packages (from pandas) (2024.1)\n",
      "Requirement already satisfied: six>=1.5 in /usr/lib/python3/dist-packages (from python-dateutil>=2.8.2->pandas) (1.16.0)\n"
     ]
    }
   ],
   "source": [
    "!pip install pandas"
   ]
  },
  {
   "cell_type": "code",
   "execution_count": 2,
   "id": "df7224d291d81869",
   "metadata": {
    "ExecuteTime": {
     "end_time": "2024-05-19T14:47:36.993238Z",
     "start_time": "2024-05-19T14:47:35.216531Z"
    },
    "collapsed": false,
    "execution": {
     "iopub.execute_input": "2024-06-02T12:30:01.118431Z",
     "iopub.status.busy": "2024-06-02T12:30:01.118269Z",
     "iopub.status.idle": "2024-06-02T12:30:01.177245Z",
     "shell.execute_reply": "2024-06-02T12:30:01.176685Z",
     "shell.execute_reply.started": "2024-06-02T12:30:01.118414Z"
    },
    "jupyter": {
     "outputs_hidden": false
    }
   },
   "outputs": [],
   "source": [
    "import json\n",
    "\n",
    "import numpy as np"
   ]
  },
  {
   "cell_type": "code",
   "execution_count": 3,
   "id": "9a30276e5766ed29",
   "metadata": {
    "ExecuteTime": {
     "end_time": "2024-05-19T13:38:41.508725Z",
     "start_time": "2024-05-19T13:38:40.569094Z"
    },
    "collapsed": false,
    "execution": {
     "iopub.execute_input": "2024-06-02T12:30:01.179482Z",
     "iopub.status.busy": "2024-06-02T12:30:01.179018Z",
     "iopub.status.idle": "2024-06-02T12:30:02.029995Z",
     "shell.execute_reply": "2024-06-02T12:30:02.029465Z",
     "shell.execute_reply.started": "2024-06-02T12:30:01.179459Z"
    },
    "jupyter": {
     "outputs_hidden": false
    }
   },
   "outputs": [
    {
     "name": "stdout",
     "output_type": "stream",
     "text": [
      "<class 'pandas.core.frame.DataFrame'>\n",
      "RangeIndex: 22533 entries, 0 to 22532\n",
      "Data columns (total 34 columns):\n",
      " #   Column                  Non-Null Count  Dtype  \n",
      "---  ------                  --------------  -----  \n",
      " 0   id                      11126 non-null  float64\n",
      " 1   id_old                  11407 non-null  object \n",
      " 2   regpri                  22533 non-null  object \n",
      " 3   regpar                  22533 non-null  object \n",
      " 4   arrond                  21021 non-null  float64\n",
      " 5   zoneres                 21021 non-null  object \n",
      " 6   tar                     21021 non-null  object \n",
      " 7   typevoie                22533 non-null  object \n",
      " 8   nomvoie                 22533 non-null  object \n",
      " 9   parite                  22517 non-null  object \n",
      " 10  lon                     22533 non-null  float64\n",
      " 11  longueur_calculee       22533 non-null  float64\n",
      " 12  signhor                 22533 non-null  object \n",
      " 13  signvert                22533 non-null  object \n",
      " 14  confsign                22533 non-null  object \n",
      " 15  plage_hor1_debut        745 non-null    object \n",
      " 16  plage_hor1_fin          745 non-null    object \n",
      " 17  plage_hor2_debut        733 non-null    object \n",
      " 18  plage_hor2_fin          733 non-null    object \n",
      " 19  plage_hor3_debut        1 non-null      object \n",
      " 20  plage_hor3_fin          1 non-null      object \n",
      " 21  datereleve              22533 non-null  object \n",
      " 22  mtlast_edit_date_field  22533 non-null  object \n",
      " 23  c_voie_vp               22533 non-null  object \n",
      " 24  n_sq_tv                 22533 non-null  int64  \n",
      " 25  numilot                 0 non-null      float64\n",
      " 26  numiris                 0 non-null      float64\n",
      " 27  zoneasp                 21021 non-null  object \n",
      " 28  stv                     21021 non-null  object \n",
      " 29  prefet                  0 non-null      float64\n",
      " 30  n_voieadd               22533 non-null  int64  \n",
      " 31  n_voieadf               22533 non-null  int64  \n",
      " 32  geo_shape               22533 non-null  object \n",
      " 33  geo_point_2d            22533 non-null  object \n",
      "dtypes: float64(7), int64(3), object(24)\n",
      "memory usage: 5.8+ MB\n",
      "None\n"
     ]
    }
   ],
   "source": [
    "import pandas as pd\n",
    "\n",
    "file_path = 'data/stationnement-sur-voie-publique-stationnement-interdit.json'\n",
    "df = pd.read_json(file_path)\n",
    "\n",
    "print(df.info())"
   ]
  },
  {
   "cell_type": "markdown",
   "id": "79e920a69dbdea7f",
   "metadata": {},
   "source": [
    "## Présentation de KeyDB\n",
    "\n",
    "KeyDB est une version améliorée de Redis axée sur le multithreading, l'efficacité mémoire et le débit élevé.\n",
    "Il conserve une compatibilité totale avec le protocole, les modules et les scripts Redis, tout en offrant des améliorations de performance telles que la réplication active et le stockage FLASH.\n",
    "\n",
    "Grâce à son architecture MVCC, KeyDB permet l'exécution de requêtes telles que KEYS et SCAN sans bloquer la base de données ni dégrader les performances.\n",
    "En utilisant le même matériel, KeyDB peut atteindre un débit significativement plus élevé que Redis.\n",
    " \n",
    "Son architecture multithread simplifie la répartition des charges et permet une utilisation plus efficace des ressources matérielles. \n",
    "En outre, KeyDB offre une compatibilité avec les derniers développements de Redis, ce qui en fait un substitut direct pour les déploiements existants.\n",
    "\n",
    "Sachant que KeyDB est un fork de redis, et qu'il est régulièrement synchronizé avec, il reste compatible avec tout les modules/extensions de Redis, nous parlerons donc de KeyDB/Redis.\n",
    "\n",
    "KeyDB est généralement utilisé comme cache en raison de sa vitesse. Cependant, il peut faire bien plus grâce à ses modules. Ces extensions ajoutent des fonctionnalités comme la recherche en texte intégral, le traitement de données géospatiales, un moteur de recherche. Ainsi, bien qu'il soit souvent vu comme un simple cache, KeyDB peut s'adapter à une variété de cas d'utilisation grâce à ses modules, devenant ainsi une solution polyvalente pour divers besoins d'application.\n",
    "\n",
    "Quelques avantages de KeyDB:\n",
    "\n",
    "- Performances élevées : KeyDB offre des performances exceptionnelles grâce à son architecture multithreadée\n",
    "- Compatibilité avec Redis : La compatibilité avec Redis permet aux utilisateurs de migrer facilement vers KeyDB sans nécessiter de modifications majeures du code\n",
    "- Support de la communauté et des entreprises : Le projet est plutôt récent, mais bénéficie d'un soutien actif de la part de la communauté open-source ainsi que de certaines entreprises, assurant un développement continu et un support fiable.\n",
    "\n",
    "Mais également quelques inconvénients\n",
    "\n",
    "- Fonctionnalités limitées : Comparé à certains systèmes NoSQL plus établis, KeyDB peut manquer de certaines fonctionnalités avancées ou spécialisées, ce qui peut limiter son utilisation dans certains cas d'utilisation spécifiques.\n",
    "- Documentation moins complète : Par rapport à des systèmes NoSQL plus populaires et matures, la documentation et les ressources d'apprentissage disponibles pour KeyDB peuvent être moins abondantes, ce qui peut poser des défis pour les nouveaux utilisateurs.\n",
    "- Maturité relative : En tant que projet plutôt récent, KeyDB peut encore manquer de la stabilité et de la maturité des systèmes NoSQL plus établis, ce qui peut entraîner des problèmes potentiels de fiabilité ou de compatibilité.\n",
    "- Dépendance aux threads : Bien que l'architecture multithreadée soit un avantage pour les performances, elle peut également introduire des complexités supplémentaires en matière de gestion des threads et de la concurrence dans le code, ce qui peut être un inconvénient pour certains développeurs."
   ]
  },
  {
   "cell_type": "markdown",
   "id": "6b2c17c8cbd77238",
   "metadata": {},
   "source": [
    "### Installation et démarrage\n",
    "\n",
    "Il est nécessaire d'avoir docker installé sur votre machine."
   ]
  },
  {
   "cell_type": "code",
   "execution_count": 4,
   "id": "fbc121e30a2defb3",
   "metadata": {
    "ExecuteTime": {
     "end_time": "2024-05-19T13:38:42.401746Z",
     "start_time": "2024-05-19T13:38:41.509732Z"
    },
    "execution": {
     "iopub.execute_input": "2024-06-02T12:30:02.031003Z",
     "iopub.status.busy": "2024-06-02T12:30:02.030670Z",
     "iopub.status.idle": "2024-06-02T12:30:02.463445Z",
     "shell.execute_reply": "2024-06-02T12:30:02.462831Z",
     "shell.execute_reply.started": "2024-06-02T12:30:02.030984Z"
    }
   },
   "outputs": [
    {
     "name": "stdout",
     "output_type": "stream",
     "text": [
      "cd983f693ebbec9fc6e42ad006b60b312f14519bde7c8ac8b7844c2fe91f8cd5\n"
     ]
    }
   ],
   "source": [
    "!docker run -p 6379:6379 --rm --name keydb-server -d eqalpha/keydb keydb-server /etc/keydb/keydb.conf --server-threads 8"
   ]
  },
  {
   "cell_type": "markdown",
   "id": "6a62f3e6d962b87c",
   "metadata": {
    "collapsed": false,
    "jupyter": {
     "outputs_hidden": false
    }
   },
   "source": [
    "Nous allons commencer par faire des tests de performance pour des opérations de CRUD.\n",
    "\n",
    "Pour celà, il suffit d'installer la librairie redis, puis de se connecter au serveur KeyDB."
   ]
  },
  {
   "cell_type": "code",
   "execution_count": 5,
   "id": "abe0c95b463dc1f4",
   "metadata": {
    "ExecuteTime": {
     "end_time": "2024-05-19T13:38:44.180685Z",
     "start_time": "2024-05-19T13:38:42.404925Z"
    },
    "execution": {
     "iopub.execute_input": "2024-06-02T12:30:02.464599Z",
     "iopub.status.busy": "2024-06-02T12:30:02.464249Z",
     "iopub.status.idle": "2024-06-02T12:30:03.659534Z",
     "shell.execute_reply": "2024-06-02T12:30:03.658967Z",
     "shell.execute_reply.started": "2024-06-02T12:30:02.464581Z"
    }
   },
   "outputs": [
    {
     "name": "stdout",
     "output_type": "stream",
     "text": [
      "Defaulting to user installation because normal site-packages is not writeable\n",
      "Requirement already satisfied: redis in /home/polo/.local/lib/python3.10/site-packages (5.0.4)\n",
      "Requirement already satisfied: async-timeout>=4.0.3 in /home/polo/.local/lib/python3.10/site-packages (from redis) (4.0.3)\n"
     ]
    }
   ],
   "source": [
    "!pip install redis"
   ]
  },
  {
   "cell_type": "code",
   "execution_count": 6,
   "id": "12791455611b3db8",
   "metadata": {
    "ExecuteTime": {
     "end_time": "2024-05-19T13:38:44.195992Z",
     "start_time": "2024-05-19T13:38:44.181687Z"
    },
    "collapsed": false,
    "execution": {
     "iopub.execute_input": "2024-06-02T12:30:03.660598Z",
     "iopub.status.busy": "2024-06-02T12:30:03.660351Z",
     "iopub.status.idle": "2024-06-02T12:30:03.689134Z",
     "shell.execute_reply": "2024-06-02T12:30:03.688590Z",
     "shell.execute_reply.started": "2024-06-02T12:30:03.660579Z"
    },
    "jupyter": {
     "outputs_hidden": false
    }
   },
   "outputs": [],
   "source": [
    "import redis\n",
    "import os\n",
    "import platform\n",
    "import time\n",
    "import datetime\n",
    "import math"
   ]
  },
  {
   "cell_type": "code",
   "execution_count": 7,
   "id": "73ef342dcd9f10c4",
   "metadata": {
    "ExecuteTime": {
     "end_time": "2024-05-19T13:38:44.211160Z",
     "start_time": "2024-05-19T13:38:44.197487Z"
    },
    "collapsed": false,
    "execution": {
     "iopub.execute_input": "2024-06-02T12:30:03.689998Z",
     "iopub.status.busy": "2024-06-02T12:30:03.689764Z",
     "iopub.status.idle": "2024-06-02T12:30:03.693016Z",
     "shell.execute_reply": "2024-06-02T12:30:03.692438Z",
     "shell.execute_reply.started": "2024-06-02T12:30:03.689981Z"
    },
    "jupyter": {
     "outputs_hidden": false
    }
   },
   "outputs": [],
   "source": [
    "# Connect to KeyDB\n",
    "keydb_host = 'localhost'\n",
    "keydb_port = 6379  # Default KeyDB port\n",
    "\n",
    "# Create a connection to KeyDB\n",
    "r = redis.Redis(host=keydb_host, port=keydb_port)"
   ]
  },
  {
   "cell_type": "markdown",
   "id": "509f69cc7238a483",
   "metadata": {
    "collapsed": false,
    "jupyter": {
     "outputs_hidden": false
    }
   },
   "source": [
    "### Tests de performances\n",
    "\n",
    "Toutes les mesures / serveurs tournent en local sur un PC qui contient:"
   ]
  },
  {
   "cell_type": "code",
   "execution_count": 8,
   "id": "8b360e7bfff6fb98",
   "metadata": {
    "ExecuteTime": {
     "end_time": "2024-05-19T13:38:44.227019Z",
     "start_time": "2024-05-19T13:38:44.212159Z"
    },
    "collapsed": false,
    "execution": {
     "iopub.execute_input": "2024-06-02T12:30:03.693955Z",
     "iopub.status.busy": "2024-06-02T12:30:03.693637Z",
     "iopub.status.idle": "2024-06-02T12:30:03.698299Z",
     "shell.execute_reply": "2024-06-02T12:30:03.697820Z",
     "shell.execute_reply.started": "2024-06-02T12:30:03.693934Z"
    },
    "jupyter": {
     "outputs_hidden": false
    }
   },
   "outputs": [
    {
     "name": "stdout",
     "output_type": "stream",
     "text": [
      "System Information:\n",
      "System: Linux\n",
      "Release: 6.5.0-35-generic\n",
      "Version: #35~22.04.1-Ubuntu SMP PREEMPT_DYNAMIC Tue May  7 09:00:52 UTC 2\n",
      "Machine: x86_64\n"
     ]
    }
   ],
   "source": [
    "system_info = platform.uname()\n",
    "\n",
    "print(\"System Information:\")\n",
    "print(f\"System: {system_info.system}\")\n",
    "print(f\"Release: {system_info.release}\")\n",
    "print(f\"Version: {system_info.version}\")\n",
    "print(f\"Machine: {system_info.machine}\")"
   ]
  },
  {
   "cell_type": "code",
   "execution_count": 9,
   "id": "c63ac22bbf50ba1b",
   "metadata": {
    "ExecuteTime": {
     "end_time": "2024-05-19T13:38:44.270443Z",
     "start_time": "2024-05-19T13:38:44.228539Z"
    },
    "collapsed": false,
    "execution": {
     "iopub.execute_input": "2024-06-02T12:30:03.699243Z",
     "iopub.status.busy": "2024-06-02T12:30:03.698972Z",
     "iopub.status.idle": "2024-06-02T12:30:03.825316Z",
     "shell.execute_reply": "2024-06-02T12:30:03.824786Z",
     "shell.execute_reply.started": "2024-06-02T12:30:03.699226Z"
    },
    "jupyter": {
     "outputs_hidden": false
    }
   },
   "outputs": [
    {
     "name": "stdout",
     "output_type": "stream",
     "text": [
      "\u001b[01;31m\u001b[Kmodel name\u001b[m\u001b[K\t: AMD Ryzen 7 2700X Eight-Core Processor\n"
     ]
    }
   ],
   "source": [
    "!grep -m 1 'model name' /proc/cpuinfo"
   ]
  },
  {
   "cell_type": "code",
   "execution_count": 10,
   "id": "18bcc1226d54060f",
   "metadata": {
    "ExecuteTime": {
     "end_time": "2024-05-19T13:38:44.333068Z",
     "start_time": "2024-05-19T13:38:44.271442Z"
    },
    "collapsed": false,
    "execution": {
     "iopub.execute_input": "2024-06-02T12:30:03.826399Z",
     "iopub.status.busy": "2024-06-02T12:30:03.826095Z",
     "iopub.status.idle": "2024-06-02T12:30:03.829954Z",
     "shell.execute_reply": "2024-06-02T12:30:03.829418Z",
     "shell.execute_reply.started": "2024-06-02T12:30:03.826382Z"
    },
    "jupyter": {
     "outputs_hidden": false
    }
   },
   "outputs": [
    {
     "name": "stdout",
     "output_type": "stream",
     "text": [
      "530001D20131119153127\n"
     ]
    }
   ],
   "source": [
    "first = df.head(1)\n",
    "\n",
    "first_id_old = first.id_old.iloc[0]\n",
    "print(first_id_old)"
   ]
  },
  {
   "cell_type": "markdown",
   "id": "72e239b90d0f3f8d",
   "metadata": {
    "collapsed": false,
    "jupyter": {
     "outputs_hidden": false
    }
   },
   "source": [
    "#### Insertion d'un champ"
   ]
  },
  {
   "cell_type": "code",
   "execution_count": 11,
   "id": "98ca86e279af1d0d",
   "metadata": {
    "ExecuteTime": {
     "end_time": "2024-05-19T13:38:44.364327Z",
     "start_time": "2024-05-19T13:38:44.336207Z"
    },
    "collapsed": false,
    "execution": {
     "iopub.execute_input": "2024-06-02T12:30:03.830859Z",
     "iopub.status.busy": "2024-06-02T12:30:03.830567Z",
     "iopub.status.idle": "2024-06-02T12:30:03.838941Z",
     "shell.execute_reply": "2024-06-02T12:30:03.838371Z",
     "shell.execute_reply.started": "2024-06-02T12:30:03.830842Z"
    },
    "jupyter": {
     "outputs_hidden": false
    }
   },
   "outputs": [
    {
     "name": "stdout",
     "output_type": "stream",
     "text": [
      "insertion time: 0:00:00.001554\n"
     ]
    }
   ],
   "source": [
    "structure = str(first.iloc[0])\n",
    "\n",
    "start_time = time.time()\n",
    "r.set(first_id_old, str(first.to_json()))\n",
    "end_time = time.time()\n",
    "\n",
    "time_taken_insertion = end_time - start_time\n",
    "print(\"insertion time:\", str(datetime.timedelta(seconds=time_taken_insertion)))"
   ]
  },
  {
   "cell_type": "markdown",
   "id": "64605ed0a176b7d3",
   "metadata": {
    "collapsed": false,
    "jupyter": {
     "outputs_hidden": false
    }
   },
   "source": [
    "#### Lecture d'un champ"
   ]
  },
  {
   "cell_type": "code",
   "execution_count": 12,
   "id": "df71d13fcc6bf9dc",
   "metadata": {
    "ExecuteTime": {
     "end_time": "2024-05-19T13:38:44.380038Z",
     "start_time": "2024-05-19T13:38:44.365844Z"
    },
    "collapsed": false,
    "execution": {
     "iopub.execute_input": "2024-06-02T12:30:03.843616Z",
     "iopub.status.busy": "2024-06-02T12:30:03.843123Z",
     "iopub.status.idle": "2024-06-02T12:30:03.847278Z",
     "shell.execute_reply": "2024-06-02T12:30:03.846742Z",
     "shell.execute_reply.started": "2024-06-02T12:30:03.843597Z"
    },
    "jupyter": {
     "outputs_hidden": false
    }
   },
   "outputs": [
    {
     "name": "stdout",
     "output_type": "stream",
     "text": [
      "read time: 0:00:00.000458\n"
     ]
    }
   ],
   "source": [
    "start_time = time.time()\n",
    "found = r.get(first_id_old)\n",
    "end_time = time.time()\n",
    "\n",
    "if found is not None:\n",
    "    time_taken_read = end_time - start_time\n",
    "    print(\"read time:\", str(datetime.timedelta(seconds=time_taken_read)))\n",
    "else:\n",
    "    print(\"no row found\")"
   ]
  },
  {
   "cell_type": "markdown",
   "id": "1ba7c528e5d9759a",
   "metadata": {
    "collapsed": false,
    "jupyter": {
     "outputs_hidden": false
    }
   },
   "source": [
    "#### Mise à jour d'un champ déjà existant\n",
    "\n",
    "KeyDB est une base de données clés/valeurs, donc il n'y a pas de \"mise à jour\" proprement dite, mais juste une réécriture.\n",
    "Cependant, KeyDB/Redis possède un type de données hashset, qui permet de stocker une sorte de hashmap dans une clé, c'est ce qu'on pourra benchmark et comparer par la suite."
   ]
  },
  {
   "cell_type": "code",
   "execution_count": 13,
   "id": "eb37571598107507",
   "metadata": {
    "ExecuteTime": {
     "end_time": "2024-05-19T13:38:44.395922Z",
     "start_time": "2024-05-19T13:38:44.381038Z"
    },
    "collapsed": false,
    "execution": {
     "iopub.execute_input": "2024-06-02T12:30:03.848209Z",
     "iopub.status.busy": "2024-06-02T12:30:03.848050Z",
     "iopub.status.idle": "2024-06-02T12:30:03.854630Z",
     "shell.execute_reply": "2024-06-02T12:30:03.853910Z",
     "shell.execute_reply.started": "2024-06-02T12:30:03.848193Z"
    },
    "jupyter": {
     "outputs_hidden": false
    }
   },
   "outputs": [
    {
     "name": "stdout",
     "output_type": "stream",
     "text": [
      "update time: 0:00:00.000522\n"
     ]
    }
   ],
   "source": [
    "structure = str(first.iloc[0])\n",
    "\n",
    "start_time = time.time()\n",
    "r.set(first_id_old, str(first.to_json()) * 2)\n",
    "end_time = time.time()\n",
    "\n",
    "time_taken_update = end_time - start_time\n",
    "print(\"update time:\", str(datetime.timedelta(seconds=time_taken_update)))"
   ]
  },
  {
   "cell_type": "markdown",
   "id": "e012a80e03b9c0aa",
   "metadata": {
    "collapsed": false,
    "jupyter": {
     "outputs_hidden": false
    }
   },
   "source": [
    "#### Suppression d'un champ"
   ]
  },
  {
   "cell_type": "code",
   "execution_count": 14,
   "id": "20aac0e38a6c1587",
   "metadata": {
    "ExecuteTime": {
     "end_time": "2024-05-19T13:38:44.411703Z",
     "start_time": "2024-05-19T13:38:44.397430Z"
    },
    "collapsed": false,
    "execution": {
     "iopub.execute_input": "2024-06-02T12:30:03.855634Z",
     "iopub.status.busy": "2024-06-02T12:30:03.855327Z",
     "iopub.status.idle": "2024-06-02T12:30:03.859859Z",
     "shell.execute_reply": "2024-06-02T12:30:03.859340Z",
     "shell.execute_reply.started": "2024-06-02T12:30:03.855617Z"
    },
    "jupyter": {
     "outputs_hidden": false
    }
   },
   "outputs": [
    {
     "name": "stdout",
     "output_type": "stream",
     "text": [
      "deletion time: 0:00:00.000353\n"
     ]
    }
   ],
   "source": [
    "start_time = time.time()\n",
    "deleted_ct = r.delete(first_id_old)\n",
    "end_time = time.time()\n",
    "\n",
    "if deleted_ct == 1:\n",
    "    time_taken_deletion = end_time - start_time\n",
    "    print(\"deletion time:\", str(datetime.timedelta(seconds=time_taken_deletion)))\n",
    "else:\n",
    "    print(\"no row deleted\")"
   ]
  },
  {
   "cell_type": "markdown",
   "id": "ea1a658523b7d3be",
   "metadata": {
    "collapsed": false,
    "jupyter": {
     "outputs_hidden": false
    }
   },
   "source": [
    "#### Quelques observations\n",
    "\n",
    "On remarque que les temps sont extrêmement réduits, et que tout se passe en microsecondes."
   ]
  },
  {
   "cell_type": "markdown",
   "id": "203773a232e0c33b",
   "metadata": {
    "collapsed": false,
    "jupyter": {
     "outputs_hidden": false
    }
   },
   "source": [
    "#### Insertion du dataset complet\n",
    "\n",
    "Il existe deux techniques, insertions l'une après l'autre des données ou l'insertion en masse.\n",
    "\n",
    "L'insertion en masse est une technique nécessitant de suivre un protocole dédié à KeyDB.\n",
    "Elle permet une insertion très rapide de beaucoup de données, car chaque SET unique est une opération à part entière et devient très vite, en cas d'un grand nombre de clés, une solution très lente et à éviter.\n",
    "\n",
    "Nous n'allons pas étudier les résultats de l'insertion en masse, mais je vais vous présenter comment cela fonctionne.\n",
    "\n",
    "Le protocole qu'il faut suivre se présente comme ci-dessous, prenons par exemple la commande <b>SET key value</b> :\n",
    "\n",
    "```\n",
    "*3<cr><lf>     <- On détermine d'abord le nombre d'arguments\n",
    "$3<cr><lf>     <- Longueur de la commande\n",
    "SET<cr><lf>    <- Commande SET\n",
    "$3<cr><lf>     <- Longueur de la clé\n",
    "key<cr><lf>    <- Valeur de la clé \n",
    "$5<cr><lf>     <- Longueur de valeur\n",
    "value<cr><lf>  <- Valeur\n",
    "```\n",
    "\n",
    "Ainsi sur une ligne celà ressemblerait à :\n",
    "\n",
    "`\"*3\\r\\n$3\\r\\nSET\\r\\n$3\\r\\nkey\\r\\n$5\\r\\nvalue\\r\\n\"`\n",
    "\n",
    "Il suffit donc de faire un script qui transforme les données d'entrée en suivant ce protocole, puis :\n",
    "\n",
    "`$ python conv.py data/stationnement-sur-voie-publique-stationnement-interdit.json | keydb-cli --pipe`\n",
    "\n",
    "#### Insertion séquentielle complète du dataset"
   ]
  },
  {
   "cell_type": "code",
   "execution_count": 15,
   "id": "12fc51f913bdc4b2",
   "metadata": {
    "ExecuteTime": {
     "end_time": "2024-05-19T13:39:09.661509Z",
     "start_time": "2024-05-19T13:38:44.413892Z"
    },
    "collapsed": false,
    "execution": {
     "iopub.execute_input": "2024-06-02T12:30:03.860938Z",
     "iopub.status.busy": "2024-06-02T12:30:03.860530Z",
     "iopub.status.idle": "2024-06-02T12:30:08.181954Z",
     "shell.execute_reply": "2024-06-02T12:30:08.181416Z",
     "shell.execute_reply.started": "2024-06-02T12:30:03.860921Z"
    },
    "jupyter": {
     "outputs_hidden": false
    }
   },
   "outputs": [
    {
     "name": "stdout",
     "output_type": "stream",
     "text": [
      "total dataset insertion time (success: 22533/22533) 0:00:04.316936\n"
     ]
    }
   ],
   "source": [
    "start_time = time.time()\n",
    "total = 0\n",
    "skipped = 0\n",
    "\n",
    "for index, row in df.iterrows():\n",
    "    id_old = row['id_old']\n",
    "    if id_old is None:\n",
    "        id_old = row['id']\n",
    "    if id_old is None:\n",
    "        skipped += 1\n",
    "        continue\n",
    "    structure = str(row.to_json())\n",
    "    r.set(id_old, structure)\n",
    "    total += 1\n",
    "\n",
    "end_time = time.time()\n",
    "\n",
    "time_taken_total_insertion = end_time - start_time\n",
    "print(\"total dataset insertion time (success: %d/%d)\" % (total, total + skipped),\n",
    "      str(datetime.timedelta(seconds=time_taken_total_insertion)))"
   ]
  },
  {
   "cell_type": "code",
   "execution_count": 16,
   "id": "c77bd180ceb1daf5",
   "metadata": {
    "ExecuteTime": {
     "end_time": "2024-05-19T13:39:09.676671Z",
     "start_time": "2024-05-19T13:39:09.662498Z"
    },
    "collapsed": false,
    "execution": {
     "iopub.execute_input": "2024-06-02T12:30:08.182847Z",
     "iopub.status.busy": "2024-06-02T12:30:08.182622Z",
     "iopub.status.idle": "2024-06-02T12:30:08.186540Z",
     "shell.execute_reply": "2024-06-02T12:30:08.185997Z",
     "shell.execute_reply.started": "2024-06-02T12:30:08.182829Z"
    },
    "jupyter": {
     "outputs_hidden": false
    }
   },
   "outputs": [],
   "source": [
    "def convert_size(size_bytes):\n",
    "    if size_bytes == 0:\n",
    "        return \"0B\"\n",
    "    size_name = (\"B\", \"KB\", \"MB\", \"GB\", \"TB\", \"PB\", \"EB\", \"ZB\", \"YB\")\n",
    "    i = int(math.floor(math.log(size_bytes, 1024)))\n",
    "    p = math.pow(1024, i)\n",
    "    s = round(size_bytes / p, 2)\n",
    "    return \"%s %s\" % (s, size_name[i])"
   ]
  },
  {
   "cell_type": "code",
   "execution_count": 17,
   "id": "22cba5217c2ba62c",
   "metadata": {
    "ExecuteTime": {
     "end_time": "2024-05-19T13:39:09.691917Z",
     "start_time": "2024-05-19T13:39:09.678187Z"
    },
    "collapsed": false,
    "execution": {
     "iopub.execute_input": "2024-06-02T12:30:08.187463Z",
     "iopub.status.busy": "2024-06-02T12:30:08.187267Z",
     "iopub.status.idle": "2024-06-02T12:30:08.194476Z",
     "shell.execute_reply": "2024-06-02T12:30:08.193951Z",
     "shell.execute_reply.started": "2024-06-02T12:30:08.187445Z"
    },
    "jupyter": {
     "outputs_hidden": false
    }
   },
   "outputs": [
    {
     "data": {
      "text/plain": [
       "'25.07 MB'"
      ]
     },
     "execution_count": 17,
     "metadata": {},
     "output_type": "execute_result"
    }
   ],
   "source": [
    "convert_size(os.path.getsize(\"data/stationnement-sur-voie-publique-stationnement-interdit.json\"))"
   ]
  },
  {
   "cell_type": "markdown",
   "id": "2cb5ec9945cf4628",
   "metadata": {
    "collapsed": false,
    "jupyter": {
     "outputs_hidden": false
    }
   },
   "source": [
    "On remarque que pour un dataset contenant <b>22533</b> clés et d'une grandeur totale de <b>25 MB</b>, on prend 4 secondes."
   ]
  },
  {
   "cell_type": "markdown",
   "id": "5890f5a92797697e",
   "metadata": {},
   "source": [
    "#### Test de performance de lecture en masse\n",
    "\n",
    "Nous allons tester la lecture de toutes les clés, et mesurer le temps pris."
   ]
  },
  {
   "cell_type": "code",
   "execution_count": 18,
   "id": "2d445a25519b318f",
   "metadata": {
    "ExecuteTime": {
     "end_time": "2024-05-19T13:41:38.436064Z",
     "start_time": "2024-05-19T13:41:29.018679Z"
    },
    "execution": {
     "iopub.execute_input": "2024-06-02T12:30:08.195420Z",
     "iopub.status.busy": "2024-06-02T12:30:08.195113Z",
     "iopub.status.idle": "2024-06-02T12:30:11.523420Z",
     "shell.execute_reply": "2024-06-02T12:30:11.522888Z",
     "shell.execute_reply.started": "2024-06-02T12:30:08.195401Z"
    }
   },
   "outputs": [
    {
     "name": "stdout",
     "output_type": "stream",
     "text": [
      "Total dataset retrieval time (found: 22533, not found: 0) 0:00:03.323212\n"
     ]
    }
   ],
   "source": [
    "start_time = time.time()\n",
    "total_found = 0\n",
    "total_not_found = 0\n",
    "\n",
    "for index, row in df.iterrows():\n",
    "    id_old = row['id_old']\n",
    "    if id_old is None:\n",
    "        id_old = row['id']\n",
    "    if id_old is None:\n",
    "        total_not_found += 1\n",
    "        continue\n",
    "\n",
    "    structure = r.get(id_old)\n",
    "    if structure is not None:\n",
    "        total_found += 1\n",
    "    else:\n",
    "        total_not_found += 1\n",
    "\n",
    "end_time = time.time()\n",
    "\n",
    "time_taken_total_get = end_time - start_time\n",
    "print(\"Total dataset retrieval time (found: %d, not found: %d)\" % (total_found, total_not_found),\n",
    "      str(datetime.timedelta(seconds=time_taken_total_get)))"
   ]
  },
  {
   "cell_type": "markdown",
   "id": "1634247b080afc3c",
   "metadata": {
    "collapsed": false,
    "jupyter": {
     "outputs_hidden": false
    }
   },
   "source": [
    "### À propos du partitionnement\n",
    "\n",
    "Le partitionnement dans KeyDB divise les données entre plusieurs instances pour améliorer les performances et la capacité de stockage.\n",
    "Pour se faire, deux méthodes principales sont utilisées : \n",
    "\n",
    "1) Le partitionnement par plage: il consiste à mapper des plages d'objets sur des instances spécifiques de KeyDB. Par exemple, on peut décider que les utilisateurs avec des identifiants de 0 à 10000 seront stockés dans l'instance R0, tandis que les utilisateurs avec des identifiants de 10001 à 20000 seront stockés dans l'instance R1, et ainsi de suite. Bien que ce système soit simple, il nécessite une table de correspondance des plages vers les instances, ce qui peut être inefficace à grande échelle.\n",
    "\n",
    "2) Le partitionnement par hachage: il fonctionne avec n'importe quelle clé et est réalisé en deux étapes simples : d'abord, on applique une fonction de hachage à la clé pour obtenir un nombre, puis on effectue une opération modulo pour mapper ce nombre sur une instance spécifique de KeyDB. Par exemple, si la clé est \"foobar\" et que le résultat du hachage modulo 4 est 2, alors la clé \"foobar\" sera stockée dans l'instance R2 de KeyDB. Ce système est plus flexible et ne nécessite pas de table de correspondance."
   ]
  },
  {
   "cell_type": "markdown",
   "id": "b6c418b00583e080",
   "metadata": {},
   "source": [
    "### À propos des index\n",
    "\n",
    "Comme KeyDB est une base de données clé-valeur, il n'y a pas d'index à proprement parler. Cependant, KeyDB permet de créer des index secondaires en utilisant ses structures de données avancées :\n",
    "\n",
    "Ensembles triés (Sorted Sets) : Utilisés pour créer des index secondaires par ID ou autres champs numériques.\n",
    "Ensembles triés avec plages lexicographiques : Pour des index secondaires plus avancés, y compris les index composites.\n",
    "Ensembles (Sets) : Pour des index aléatoires.\n",
    "Listes (Lists) : Pour des index simples itérables ou des index des derniers N éléments.\n",
    "Ces mécanismes permettent de réaliser des requêtes complexes et d'optimiser les performances, bien que leur mise en œuvre puisse nécessiter une certaine expertise.\n",
    "\n",
    "Nous ne ferons donc pas de tests de performance sur les index."
   ]
  },
  {
   "cell_type": "code",
   "execution_count": 19,
   "id": "4b9e6ead301f2868",
   "metadata": {
    "ExecuteTime": {
     "end_time": "2024-05-19T14:03:35.578817Z",
     "start_time": "2024-05-19T14:03:35.561322Z"
    },
    "execution": {
     "iopub.execute_input": "2024-06-02T12:30:11.524217Z",
     "iopub.status.busy": "2024-06-02T12:30:11.524060Z",
     "iopub.status.idle": "2024-06-02T12:30:11.526802Z",
     "shell.execute_reply": "2024-06-02T12:30:11.526256Z",
     "shell.execute_reply.started": "2024-06-02T12:30:11.524201Z"
    }
   },
   "outputs": [],
   "source": [
    "r.close()"
   ]
  },
  {
   "cell_type": "code",
   "execution_count": 20,
   "id": "638681c4c802ad29",
   "metadata": {
    "ExecuteTime": {
     "end_time": "2024-05-19T15:35:44.366582Z",
     "start_time": "2024-05-19T15:35:43.120472Z"
    },
    "execution": {
     "iopub.execute_input": "2024-06-02T12:30:11.527974Z",
     "iopub.status.busy": "2024-06-02T12:30:11.527555Z",
     "iopub.status.idle": "2024-06-02T12:30:12.261312Z",
     "shell.execute_reply": "2024-06-02T12:30:12.260755Z",
     "shell.execute_reply.started": "2024-06-02T12:30:11.527944Z"
    }
   },
   "outputs": [
    {
     "name": "stdout",
     "output_type": "stream",
     "text": [
      "keydb-server\n"
     ]
    }
   ],
   "source": [
    "!docker stop keydb-server"
   ]
  },
  {
   "cell_type": "markdown",
   "id": "45857cd31a026c3c",
   "metadata": {},
   "source": [
    "## Présentation de RQLite\n",
    "\n",
    "RQLite est une base de données relationnelle qui combine la simplicité de SQLite avec la fiabilité d'un système distribué robuste. Il est facile à déployer et à utiliser. Basé sur SQLite, il assure le stockage fiable des données tout en offrant des fonctionnalités distribuées.\n",
    "\n",
    "Quelques avantages:\n",
    "\n",
    "- Léger et intégrable: rqlite est une base de données légère qui peut être facilement intégrée aux applications existantes.\n",
    "- Distribué et tolérant aux pannes: rqlite réplique les données sur plusieurs nœuds, ce qui permet de maintenir la disponibilité des données même en cas de défaillance d'un nœud.\n",
    "- Durable: rqlite prend en charge les transactions ACID, ce qui garantit l'intégrité des données.\n",
    "- Scalable: rqlite peut être facilement mise à l'échelle horizontalement en ajoutant des nœuds supplémentaires au cluster."
   ]
  },
  {
   "cell_type": "markdown",
   "id": "d124c7b72c69a16d",
   "metadata": {},
   "source": [
    "### Installation et démarrage\n",
    "\n",
    "Il est nécessaire d'avoir docker installé sur votre machine."
   ]
  },
  {
   "cell_type": "code",
   "execution_count": 21,
   "id": "babeeb03fb2f237b",
   "metadata": {
    "ExecuteTime": {
     "end_time": "2024-05-19T14:50:18.703906Z",
     "start_time": "2024-05-19T14:50:17.857627Z"
    },
    "collapsed": false,
    "execution": {
     "iopub.execute_input": "2024-06-02T12:30:12.262352Z",
     "iopub.status.busy": "2024-06-02T12:30:12.262094Z",
     "iopub.status.idle": "2024-06-02T12:30:12.702363Z",
     "shell.execute_reply": "2024-06-02T12:30:12.701813Z",
     "shell.execute_reply.started": "2024-06-02T12:30:12.262333Z"
    },
    "jupyter": {
     "outputs_hidden": false
    }
   },
   "outputs": [
    {
     "name": "stdout",
     "output_type": "stream",
     "text": [
      "91fbeb4eea7b5736506fb971183c5e47aeea620e591695ded91d32a76a7490e3\n"
     ]
    }
   ],
   "source": [
    "!docker run -p 4001:4001 --rm --name rqlite-server -d rqlite/rqlite"
   ]
  },
  {
   "cell_type": "code",
   "execution_count": 22,
   "id": "e4a1bcc6e113e747",
   "metadata": {
    "ExecuteTime": {
     "end_time": "2024-05-19T14:02:36.804392Z",
     "start_time": "2024-05-19T14:02:24.088420Z"
    },
    "execution": {
     "iopub.execute_input": "2024-06-02T12:30:12.703451Z",
     "iopub.status.busy": "2024-06-02T12:30:12.703109Z",
     "iopub.status.idle": "2024-06-02T12:30:17.985996Z",
     "shell.execute_reply": "2024-06-02T12:30:17.985450Z",
     "shell.execute_reply.started": "2024-06-02T12:30:12.703433Z"
    }
   },
   "outputs": [
    {
     "name": "stdout",
     "output_type": "stream",
     "text": [
      "Defaulting to user installation because normal site-packages is not writeable\n",
      "Collecting git+https://github.com/rqlite/pyrqlite.git\n",
      "  Cloning https://github.com/rqlite/pyrqlite.git to /tmp/pip-req-build-3xu3e30y\n",
      "  Running command git clone --filter=blob:none --quiet https://github.com/rqlite/pyrqlite.git /tmp/pip-req-build-3xu3e30y\n",
      "  Resolved https://github.com/rqlite/pyrqlite.git to commit d35e0ad01d0ee19ab6ea2106357d7a437620b135\n",
      "  Installing build dependencies ... \u001b[?25ldone\n",
      "\u001b[?25h  Getting requirements to build wheel ... \u001b[?25ldone\n",
      "\u001b[?25h  Preparing metadata (pyproject.toml) ... \u001b[?25ldone\n",
      "\u001b[?25h"
     ]
    }
   ],
   "source": [
    "!pip install git+https://github.com/rqlite/pyrqlite.git"
   ]
  },
  {
   "cell_type": "code",
   "execution_count": 23,
   "id": "da0d44bcdc11375d",
   "metadata": {
    "ExecuteTime": {
     "end_time": "2024-05-19T14:50:34.182450Z",
     "start_time": "2024-05-19T14:50:34.176910Z"
    },
    "execution": {
     "iopub.execute_input": "2024-06-02T12:30:17.987031Z",
     "iopub.status.busy": "2024-06-02T12:30:17.986709Z",
     "iopub.status.idle": "2024-06-02T12:30:17.992106Z",
     "shell.execute_reply": "2024-06-02T12:30:17.991612Z",
     "shell.execute_reply.started": "2024-06-02T12:30:17.987012Z"
    }
   },
   "outputs": [],
   "source": [
    "import pyrqlite.dbapi2 as dbapi2\n",
    "\n",
    "# Connect to the database\n",
    "connection = dbapi2.connect(\n",
    "    host='localhost',\n",
    "    port=4001,\n",
    ")"
   ]
  },
  {
   "cell_type": "code",
   "execution_count": 24,
   "id": "41a15f1ff7403694",
   "metadata": {
    "ExecuteTime": {
     "end_time": "2024-05-19T14:50:34.833223Z",
     "start_time": "2024-05-19T14:50:34.811636Z"
    },
    "execution": {
     "iopub.execute_input": "2024-06-02T12:30:17.993144Z",
     "iopub.status.busy": "2024-06-02T12:30:17.992803Z",
     "iopub.status.idle": "2024-06-02T12:30:18.002818Z",
     "shell.execute_reply": "2024-06-02T12:30:18.002340Z",
     "shell.execute_reply.started": "2024-06-02T12:30:17.993125Z"
    }
   },
   "outputs": [],
   "source": [
    "with connection.cursor() as cursor:\n",
    "    cursor.execute(\"\"\"CREATE TABLE IF NOT EXISTS test_table (\n",
    "        id VARCHAR(255),\n",
    "        regpri VARCHAR(255) NOT NULL,\n",
    "        regpar VARCHAR(255) NOT NULL,\n",
    "        arrond FLOAT,\n",
    "        zoneres VARCHAR(255),\n",
    "        tar VARCHAR(255),\n",
    "        typevoie VARCHAR(255) NOT NULL,\n",
    "        nomvoie VARCHAR(255) NOT NULL,\n",
    "        parite VARCHAR(255),\n",
    "        lon FLOAT NOT NULL,\n",
    "        longueur_calculee FLOAT NOT NULL,\n",
    "        signhor VARCHAR(255) NOT NULL,\n",
    "        signvert VARCHAR(255) NOT NULL,\n",
    "        confsign VARCHAR(255) NOT NULL,\n",
    "        plage_hor1_debut VARCHAR(255),\n",
    "        plage_hor1_fin VARCHAR(255),\n",
    "        plage_hor2_debut VARCHAR(255),\n",
    "        plage_hor2_fin VARCHAR(255),\n",
    "        plage_hor3_debut VARCHAR(255),\n",
    "        plage_hor3_fin VARCHAR(255),\n",
    "        datereleve VARCHAR(255) NOT NULL,\n",
    "        mtlast_edit_date_field VARCHAR(255) NOT NULL,\n",
    "        c_voie_vp VARCHAR(255) NOT NULL,\n",
    "        n_sq_tv INT NOT NULL,\n",
    "        numilot FLOAT,\n",
    "        numiris FLOAT,\n",
    "        zoneasp VARCHAR(255),\n",
    "        stv VARCHAR(255),\n",
    "        prefet FLOAT,\n",
    "        n_voieadd INT NOT NULL,\n",
    "        n_voieadf INT NOT NULL,\n",
    "        geo_shape VARCHAR(255) NOT NULL,\n",
    "        geo_point_2d VARCHAR(255) NOT NULL,\n",
    "        PRIMARY KEY (id)\n",
    "    );\"\"\")"
   ]
  },
  {
   "cell_type": "code",
   "execution_count": 25,
   "id": "442ad929d6a2631e",
   "metadata": {
    "ExecuteTime": {
     "end_time": "2024-05-19T14:58:27.063099Z",
     "start_time": "2024-05-19T14:58:27.048698Z"
    },
    "execution": {
     "iopub.execute_input": "2024-06-02T12:30:18.003811Z",
     "iopub.status.busy": "2024-06-02T12:30:18.003439Z",
     "iopub.status.idle": "2024-06-02T12:30:18.007727Z",
     "shell.execute_reply": "2024-06-02T12:30:18.007248Z",
     "shell.execute_reply.started": "2024-06-02T12:30:18.003792Z"
    }
   },
   "outputs": [],
   "source": [
    "def get_id(row):\n",
    "    result = row[0]\n",
    "    if result is None or result != result:\n",
    "        result = row[1]\n",
    "    return result\n",
    "\n",
    "def normalize(row):\n",
    "    val = row.to_numpy()[0]\n",
    "    val[0] = get_id(val)\n",
    "    val = np.delete(val, 1)\n",
    "    # geo_shape et geo_point_2d formattés en string\n",
    "    val[31] = json.dumps(val[31])\n",
    "    val[32] = json.dumps(val[32])\n",
    "    \n",
    "    for i in range(len(val)):\n",
    "        if val[i] != val[i]:\n",
    "            val[i] = 0\n",
    "    return val"
   ]
  },
  {
   "cell_type": "markdown",
   "id": "ed0c697934cb0020",
   "metadata": {},
   "source": [
    "### Tests de performances\n",
    "\n",
    "#### Insertion d'un champ\n"
   ]
  },
  {
   "cell_type": "code",
   "execution_count": 26,
   "id": "cfd1dfbb70d15633",
   "metadata": {
    "ExecuteTime": {
     "end_time": "2024-05-19T14:58:43.448143Z",
     "start_time": "2024-05-19T14:58:43.342666Z"
    },
    "execution": {
     "iopub.execute_input": "2024-06-02T12:30:18.008508Z",
     "iopub.status.busy": "2024-06-02T12:30:18.008340Z",
     "iopub.status.idle": "2024-06-02T12:30:18.021749Z",
     "shell.execute_reply": "2024-06-02T12:30:18.021260Z",
     "shell.execute_reply.started": "2024-06-02T12:30:18.008491Z"
    }
   },
   "outputs": [
    {
     "name": "stdout",
     "output_type": "stream",
     "text": [
      "insertion time: 0:00:00.007792\n"
     ]
    }
   ],
   "source": [
    "val = normalize(first)\n",
    "\n",
    "start_time = time.time()\n",
    "with connection.cursor() as cursor:\n",
    "    cursor.execute(\"\"\"INSERT INTO test_table (\n",
    "            id, regpri, regpar, arrond, zoneres, tar, typevoie, nomvoie, parite, lon,\n",
    "            longueur_calculee, signhor, signvert, confsign, plage_hor1_debut, plage_hor1_fin,\n",
    "            plage_hor2_debut, plage_hor2_fin, plage_hor3_debut, plage_hor3_fin, datereleve,\n",
    "            mtlast_edit_date_field, c_voie_vp, n_sq_tv, numilot, numiris, zoneasp, stv, prefet,\n",
    "            n_voieadd, n_voieadf, geo_shape, geo_point_2d\n",
    "        ) VALUES (?, ?, ?, ?, ?, ?, ?, ?, ?, ?, ?, ?, ?, ?, ?, ?, ?, ?, ?, ?, ?, ?, ?, ?, ?, ?, ?, ?, ?, ?, ?, ?, ?)\n",
    "\"\"\", parameters=val)\n",
    "    \n",
    "end_time = time.time()\n",
    "rqlite_insert_time = end_time - start_time\n",
    "print(\"insertion time:\", str(datetime.timedelta(seconds=rqlite_insert_time)))"
   ]
  },
  {
   "cell_type": "markdown",
   "id": "ab46b32145ba9e9c",
   "metadata": {},
   "source": [
    "#### Lecture d'un champ"
   ]
  },
  {
   "cell_type": "code",
   "execution_count": 27,
   "id": "95bd746cb046937",
   "metadata": {
    "ExecuteTime": {
     "end_time": "2024-05-19T15:09:54.621522Z",
     "start_time": "2024-05-19T15:09:54.599013Z"
    },
    "execution": {
     "iopub.execute_input": "2024-06-02T12:30:18.022639Z",
     "iopub.status.busy": "2024-06-02T12:30:18.022354Z",
     "iopub.status.idle": "2024-06-02T12:30:18.027786Z",
     "shell.execute_reply": "2024-06-02T12:30:18.027297Z",
     "shell.execute_reply.started": "2024-06-02T12:30:18.022622Z"
    }
   },
   "outputs": [
    {
     "name": "stdout",
     "output_type": "stream",
     "text": [
      "read time: 0:00:00.001830\n",
      "('530001D20131119153127', 'INTERDIT', 'Stationnement gênant', 8.0, '8F', '1', 'RUE', 'LAMENNAIS', 'Pair', 12.61749678, 12.61749678, 'Absente', 'Absente', 'SV Non-conforme', None, None, None, None, None, None, '2020-08-31', '2017-07-03', '5222', 750602357, 0.0, 0.0, '08Z2', 'STV Nord-Ouest', 0.0, 2, 14, '{\"type\": \"Feature\", \"geometry\": {\"coordinates\": [[2.302409241631641, 48.87439108342912], [2.302370429146084, 48.87442389454965], [2.3023661657542203, 48.87442796800206], [2.3023627545274232, 48.874432954755655], [2.30236019375872, 48.874438575105394], [2.302359336609679, 48.87444658414207], [2.302360185200712, 48.874452344873305], [2.30236358841582, 48.87445894968573], [2.302366993846696, 48.87446365869901], [2.302373805717524, 48.87446892986761], [2.302379767222101, 48.87447335699436], [2.302388286610417, 48.874476450914756], [2.3023959532251412, 48.87447898227307], [2.302402768808386, 48.87448010839671]], \"type\": \"LineString\"}, \"properties\": {}}', '{\"lon\": 2.302379142060165, \"lat\": 48.87443888858565}')\n"
     ]
    }
   ],
   "source": [
    "start_time = time.time()\n",
    "with connection.cursor() as cursor:\n",
    "    sql = \"SELECT * FROM `test_table` WHERE `id`=:name\"\n",
    "    cursor.execute(sql, {'name': first_id_old})\n",
    "    result = cursor.fetchone()\n",
    "end_time = time.time()\n",
    "rqlite_read_time = end_time - start_time\n",
    "print(\"read time:\", str(datetime.timedelta(seconds=rqlite_read_time)))\n",
    "print(result)"
   ]
  },
  {
   "cell_type": "markdown",
   "id": "6da09abb9c35e666",
   "metadata": {},
   "source": [
    "#### Mise à jour d'un champ déjà existant"
   ]
  },
  {
   "cell_type": "code",
   "execution_count": 28,
   "id": "ab58eb087b252829",
   "metadata": {
    "ExecuteTime": {
     "end_time": "2024-05-19T15:13:20.928582Z",
     "start_time": "2024-05-19T15:13:20.860632Z"
    },
    "execution": {
     "iopub.execute_input": "2024-06-02T12:30:18.028713Z",
     "iopub.status.busy": "2024-06-02T12:30:18.028433Z",
     "iopub.status.idle": "2024-06-02T12:30:18.041550Z",
     "shell.execute_reply": "2024-06-02T12:30:18.041109Z",
     "shell.execute_reply.started": "2024-06-02T12:30:18.028695Z"
    }
   },
   "outputs": [
    {
     "name": "stdout",
     "output_type": "stream",
     "text": [
      "update time: 0:00:00.008655\n"
     ]
    }
   ],
   "source": [
    "val = normalize(first)\n",
    "val = val[1:]\n",
    "val = np.append(val, first_id_old)\n",
    "\n",
    "start_time = time.time()\n",
    "with connection.cursor() as cursor:\n",
    "    cursor.execute(\"\"\"UPDATE test_table SET \n",
    "        regpri=?, regpar=?, arrond=?, zoneres=?, tar=?, typevoie=?, nomvoie=?, parite=?, lon=?,\n",
    "        longueur_calculee=?, signhor=?, signvert=?, confsign=?, plage_hor1_debut=?, plage_hor1_fin=?,\n",
    "        plage_hor2_debut=?, plage_hor2_fin=?, plage_hor3_debut=?, plage_hor3_fin=?, datereleve=?,\n",
    "        mtlast_edit_date_field=?, c_voie_vp=?, n_sq_tv=?, numilot=?, numiris=?, zoneasp=?, stv=?, prefet=?,\n",
    "        n_voieadd=?, n_voieadf=?, geo_shape=?, geo_point_2d=?\n",
    "        WHERE id=?\n",
    "\"\"\", parameters=val)\n",
    "end_time = time.time()\n",
    "rqlite_update_time = end_time - start_time\n",
    "print(\"update time:\", str(datetime.timedelta(seconds=rqlite_update_time)))"
   ]
  },
  {
   "cell_type": "markdown",
   "id": "c7916db0264e45f5",
   "metadata": {},
   "source": [
    "#### Suppression d'un champ"
   ]
  },
  {
   "cell_type": "code",
   "execution_count": 29,
   "id": "a02b2d78644b193c",
   "metadata": {
    "ExecuteTime": {
     "end_time": "2024-05-19T15:20:23.723588Z",
     "start_time": "2024-05-19T15:20:23.661803Z"
    },
    "execution": {
     "iopub.execute_input": "2024-06-02T12:30:18.042651Z",
     "iopub.status.busy": "2024-06-02T12:30:18.042490Z",
     "iopub.status.idle": "2024-06-02T12:30:18.048735Z",
     "shell.execute_reply": "2024-06-02T12:30:18.048274Z",
     "shell.execute_reply.started": "2024-06-02T12:30:18.042634Z"
    }
   },
   "outputs": [
    {
     "name": "stdout",
     "output_type": "stream",
     "text": [
      "deletion time: 0:00:00.003199\n"
     ]
    }
   ],
   "source": [
    "start_time = time.time()\n",
    "with connection.cursor() as cursor:\n",
    "    cursor.execute(\"DELETE FROM test_table WHERE id=?\", (first_id_old,))\n",
    "end_time = time.time()\n",
    "rqlite_delete_time = end_time - start_time\n",
    "print(\"deletion time:\", str(datetime.timedelta(seconds=rqlite_delete_time)))"
   ]
  },
  {
   "cell_type": "markdown",
   "id": "65a2c8d54faf41f9",
   "metadata": {},
   "source": [
    "#### Quelques observations\n",
    "\n",
    "On remarque que les temps sont extrêmement réduits, et que tout se passe en microsecondes."
   ]
  },
  {
   "cell_type": "markdown",
   "id": "b6c24cd14e2e2244",
   "metadata": {},
   "source": [
    "#### Insertion du dataset complet"
   ]
  },
  {
   "cell_type": "code",
   "execution_count": 30,
   "id": "b4fe2435d6679427",
   "metadata": {
    "ExecuteTime": {
     "end_time": "2024-05-19T15:27:03.580234Z",
     "start_time": "2024-05-19T15:26:54.763992Z"
    },
    "execution": {
     "iopub.execute_input": "2024-06-02T12:30:18.049537Z",
     "iopub.status.busy": "2024-06-02T12:30:18.049348Z",
     "iopub.status.idle": "2024-06-02T12:30:25.328811Z",
     "shell.execute_reply": "2024-06-02T12:30:25.328401Z",
     "shell.execute_reply.started": "2024-06-02T12:30:18.049520Z"
    }
   },
   "outputs": [
    {
     "name": "stdout",
     "output_type": "stream",
     "text": [
      "total dataset insertion time (success: 22533/22533) 0:00:07.272984\n"
     ]
    }
   ],
   "source": [
    "start_time = time.time()\n",
    "total = 0\n",
    "skipped = 0\n",
    "with connection.cursor() as cursor:\n",
    "    \n",
    "    # Send batch of 1000 rows\n",
    "    batch = []\n",
    "    \n",
    "    for i in range(len(df)):\n",
    "        val = normalize(df.iloc[[i]])\n",
    "        batch.append(val)\n",
    "        \n",
    "        if len(batch) == 1000:\n",
    "            cursor.executemany(\"\"\"INSERT INTO test_table (\n",
    "                    id, regpri, regpar, arrond, zoneres, tar, typevoie, nomvoie, parite, lon,\n",
    "                    longueur_calculee, signhor, signvert, confsign, plage_hor1_debut, plage_hor1_fin,\n",
    "                    plage_hor2_debut, plage_hor2_fin, plage_hor3_debut, plage_hor3_fin, datereleve,\n",
    "                    mtlast_edit_date_field, c_voie_vp, n_sq_tv, numilot, numiris, zoneasp, stv, prefet,\n",
    "                    n_voieadd, n_voieadf, geo_shape, geo_point_2d\n",
    "                ) VALUES (?, ?, ?, ?, ?, ?, ?, ?, ?, ?, ?, ?, ?, ?, ?, ?, ?, ?, ?, ?, ?, ?, ?, ?, ?, ?, ?, ?, ?, ?, ?, ?, ?)\n",
    "        \"\"\", seq_of_parameters=batch)\n",
    "            batch = []\n",
    "            total += 1000\n",
    "    if len(batch) > 0:\n",
    "        cursor.executemany(\"\"\"INSERT INTO test_table (\n",
    "        id, regpri, regpar, arrond, zoneres, tar, typevoie, nomvoie, parite, lon,\n",
    "        longueur_calculee, signhor, signvert, confsign, plage_hor1_debut, plage_hor1_fin,\n",
    "        plage_hor2_debut, plage_hor2_fin, plage_hor3_debut, plage_hor3_fin, datereleve,\n",
    "        mtlast_edit_date_field, c_voie_vp, n_sq_tv, numilot, numiris, zoneasp, stv, prefet,\n",
    "        n_voieadd, n_voieadf, geo_shape, geo_point_2d\n",
    "    ) VALUES (?, ?, ?, ?, ?, ?, ?, ?, ?, ?, ?, ?, ?, ?, ?, ?, ?, ?, ?, ?, ?, ?, ?, ?, ?, ?, ?, ?, ?, ?, ?, ?, ?)\n",
    "    \"\"\", seq_of_parameters=batch)\n",
    "        \n",
    "        total += len(batch)\n",
    "end_time = time.time()\n",
    "rqlite_total_insert_time = end_time - start_time\n",
    "print(\"total dataset insertion time (success: %d/%d)\" % (total, total + skipped),\n",
    "      str(datetime.timedelta(seconds=rqlite_total_insert_time)))"
   ]
  },
  {
   "cell_type": "markdown",
   "id": "2edb58f167f85eb1",
   "metadata": {},
   "source": [
    "#### Test de performance de lecture en masse"
   ]
  },
  {
   "cell_type": "code",
   "execution_count": 31,
   "id": "a536c8a24330cabd",
   "metadata": {
    "ExecuteTime": {
     "end_time": "2024-05-19T15:30:46.290788Z",
     "start_time": "2024-05-19T15:30:06.273350Z"
    },
    "execution": {
     "iopub.execute_input": "2024-06-02T12:30:25.329510Z",
     "iopub.status.busy": "2024-06-02T12:30:25.329356Z",
     "iopub.status.idle": "2024-06-02T12:30:39.298070Z",
     "shell.execute_reply": "2024-06-02T12:30:39.297563Z",
     "shell.execute_reply.started": "2024-06-02T12:30:25.329494Z"
    }
   },
   "outputs": [
    {
     "name": "stdout",
     "output_type": "stream",
     "text": [
      "Total dataset retrieval time (found: 22533, not found: 0) 0:00:13.964768\n"
     ]
    }
   ],
   "source": [
    "start_time = time.time()\n",
    "total_found = 0\n",
    "total_not_found = 0\n",
    "with connection.cursor() as cursor:\n",
    "    for i in range(len(df)):\n",
    "        val = normalize(df.iloc[[i]])\n",
    "        cursor.execute(\"SELECT * FROM `test_table` WHERE `id`=?\", (val[0],))\n",
    "        result = cursor.fetchone()\n",
    "        if result is not None:\n",
    "            total_found += 1\n",
    "        else:\n",
    "            total_not_found += 1\n",
    "end_time = time.time()\n",
    "rqlite_total_get_time = end_time - start_time\n",
    "print(\"Total dataset retrieval time (found: %d, not found: %d)\" % (total_found, total_not_found),\n",
    "      str(datetime.timedelta(seconds=rqlite_total_get_time)))"
   ]
  },
  {
   "cell_type": "code",
   "execution_count": 32,
   "id": "a33a4d73721c2dc4",
   "metadata": {
    "ExecuteTime": {
     "end_time": "2024-05-19T15:35:24.784917Z",
     "start_time": "2024-05-19T15:35:24.771089Z"
    },
    "execution": {
     "iopub.execute_input": "2024-06-02T12:30:39.299024Z",
     "iopub.status.busy": "2024-06-02T12:30:39.298696Z",
     "iopub.status.idle": "2024-06-02T12:30:39.301348Z",
     "shell.execute_reply": "2024-06-02T12:30:39.300931Z",
     "shell.execute_reply.started": "2024-06-02T12:30:39.299007Z"
    }
   },
   "outputs": [],
   "source": [
    "connection.close()"
   ]
  },
  {
   "cell_type": "code",
   "execution_count": 33,
   "id": "9d7d763bc5a5fbfd",
   "metadata": {
    "ExecuteTime": {
     "end_time": "2024-05-19T15:35:30.445743Z",
     "start_time": "2024-05-19T15:35:29.871308Z"
    },
    "execution": {
     "iopub.execute_input": "2024-06-02T12:30:39.302142Z",
     "iopub.status.busy": "2024-06-02T12:30:39.301873Z",
     "iopub.status.idle": "2024-06-02T12:30:39.935486Z",
     "shell.execute_reply": "2024-06-02T12:30:39.934869Z",
     "shell.execute_reply.started": "2024-06-02T12:30:39.302126Z"
    }
   },
   "outputs": [
    {
     "name": "stdout",
     "output_type": "stream",
     "text": [
      "rqlite-server\n"
     ]
    }
   ],
   "source": [
    "!docker stop rqlite-server"
   ]
  },
  {
   "cell_type": "markdown",
   "id": "72c613108a633e12",
   "metadata": {},
   "source": [
    "## Comparaison des deux bases de données\n",
    "\n",
    "Nous allons comparer les performances des deux bases de données en fonction des opérations CRUD.\n",
    "\n",
    "Avec matplotlib, nous allons afficher les temps pris pour chaque opération."
   ]
  },
  {
   "cell_type": "code",
   "execution_count": 34,
   "id": "354eea97625c46c8",
   "metadata": {
    "ExecuteTime": {
     "end_time": "2024-05-19T15:37:06.989648Z",
     "start_time": "2024-05-19T15:36:58.976646Z"
    },
    "execution": {
     "iopub.execute_input": "2024-06-02T12:30:39.936715Z",
     "iopub.status.busy": "2024-06-02T12:30:39.936309Z",
     "iopub.status.idle": "2024-06-02T12:30:41.154775Z",
     "shell.execute_reply": "2024-06-02T12:30:41.154216Z",
     "shell.execute_reply.started": "2024-06-02T12:30:39.936698Z"
    }
   },
   "outputs": [
    {
     "name": "stdout",
     "output_type": "stream",
     "text": [
      "Defaulting to user installation because normal site-packages is not writeable\n",
      "Requirement already satisfied: matplotlib in /home/polo/.local/lib/python3.10/site-packages (3.9.0)\n",
      "Requirement already satisfied: kiwisolver>=1.3.1 in /home/polo/.local/lib/python3.10/site-packages (from matplotlib) (1.4.5)\n",
      "Requirement already satisfied: numpy>=1.23 in /home/polo/.local/lib/python3.10/site-packages (from matplotlib) (1.26.4)\n",
      "Requirement already satisfied: cycler>=0.10 in /home/polo/.local/lib/python3.10/site-packages (from matplotlib) (0.12.1)\n",
      "Requirement already satisfied: packaging>=20.0 in /home/polo/.local/lib/python3.10/site-packages (from matplotlib) (24.0)\n",
      "Requirement already satisfied: contourpy>=1.0.1 in /home/polo/.local/lib/python3.10/site-packages (from matplotlib) (1.2.1)\n",
      "Requirement already satisfied: fonttools>=4.22.0 in /home/polo/.local/lib/python3.10/site-packages (from matplotlib) (4.53.0)\n",
      "Requirement already satisfied: pyparsing>=2.3.1 in /usr/lib/python3/dist-packages (from matplotlib) (2.4.7)\n",
      "Requirement already satisfied: pillow>=8 in /usr/lib/python3/dist-packages (from matplotlib) (9.0.1)\n",
      "Requirement already satisfied: python-dateutil>=2.7 in /home/polo/.local/lib/python3.10/site-packages (from matplotlib) (2.9.0.post0)\n",
      "Requirement already satisfied: six>=1.5 in /usr/lib/python3/dist-packages (from python-dateutil>=2.7->matplotlib) (1.16.0)\n"
     ]
    }
   ],
   "source": [
    "!pip install matplotlib"
   ]
  },
  {
   "cell_type": "code",
   "execution_count": 35,
   "id": "ccb79dbd5fddd5e3",
   "metadata": {
    "ExecuteTime": {
     "end_time": "2024-05-19T15:38:06.066753Z",
     "start_time": "2024-05-19T15:38:03.629271Z"
    },
    "execution": {
     "iopub.execute_input": "2024-06-02T12:30:41.155767Z",
     "iopub.status.busy": "2024-06-02T12:30:41.155521Z",
     "iopub.status.idle": "2024-06-02T12:30:41.542673Z",
     "shell.execute_reply": "2024-06-02T12:30:41.542212Z",
     "shell.execute_reply.started": "2024-06-02T12:30:41.155750Z"
    }
   },
   "outputs": [
    {
     "data": {
      "image/png": "[encoded data removed]",
      "text/plain": [
       "<Figure size 640x480 with 1 Axes>"
      ]
     },
     "metadata": {},
     "output_type": "display_data"
    }
   ],
   "source": [
    "import matplotlib.pyplot as plt\n",
    "\n",
    "# Data\n",
    "labels = ['Insertion', 'Lecture', 'Mise à jour', 'Suppression']\n",
    "keydb_times = [time_taken_insertion, time_taken_read, time_taken_update, time_taken_deletion]\n",
    "rqlite_times = [rqlite_insert_time, rqlite_read_time, rqlite_update_time, rqlite_delete_time]\n",
    "\n",
    "# Plot\n",
    "fig, ax = plt.subplots()\n",
    "bar_width = 0.35\n",
    "x = np.arange(len(labels))\n",
    "rects1 = ax.bar(x - bar_width/2, keydb_times, bar_width, label='KeyDB')\n",
    "\n",
    "rects2 = ax.bar(x + bar_width/2, rqlite_times, bar_width, label='RQLite')\n",
    "\n",
    "ax.set_ylabel('Temps (s)')\n",
    "ax.set_title('Temps pris pour chaque opération')\n",
    "ax.set_xticks(x)\n",
    "ax.set_xticklabels(labels)\n",
    "ax.legend()\n",
    "\n",
    "fig.tight_layout()\n",
    "\n",
    "plt.show()"
   ]
  },
  {
   "cell_type": "markdown",
   "id": "949fdbbbe94470bf",
   "metadata": {},
   "source": [
    "### Observations\n",
    "\n",
    "On remarque que KeyDB est plus rapide que RQLite pour toutes les opérations CRUD.\n",
    "\n",
    "En effet, KeyDB est une base de données clé-valeur, ce qui lui permet d'être plus rapide que RQLite, qui est une base de données relationnelle."
   ]
  },
  {
   "cell_type": "markdown",
   "id": "276cf08613129bed",
   "metadata": {},
   "source": [
    "Nous allons maintenant comparer les temps pris pour l'insertion de tout le dataset et la lecture de toutes les clés."
   ]
  },
  {
   "cell_type": "code",
   "execution_count": 36,
   "id": "9033ec2cd8b33b8b",
   "metadata": {
    "ExecuteTime": {
     "end_time": "2024-05-19T15:41:25.840039Z",
     "start_time": "2024-05-19T15:41:25.678037Z"
    },
    "execution": {
     "iopub.execute_input": "2024-06-02T12:30:41.543772Z",
     "iopub.status.busy": "2024-06-02T12:30:41.543347Z",
     "iopub.status.idle": "2024-06-02T12:30:41.654939Z",
     "shell.execute_reply": "2024-06-02T12:30:41.654538Z",
     "shell.execute_reply.started": "2024-06-02T12:30:41.543753Z"
    }
   },
   "outputs": [
    {
     "data": {
      "image/png": "[encoded data removed]",
      "text/plain": [
       "<Figure size 640x480 with 1 Axes>"
      ]
     },
     "metadata": {},
     "output_type": "display_data"
    }
   ],
   "source": [
    "# Data\n",
    "labels = ['Insertion', 'Lecture']\n",
    "keydb_times = [time_taken_total_insertion, time_taken_total_get]\n",
    "rqlite_times = [rqlite_total_insert_time, rqlite_total_get_time]\n",
    "\n",
    "# Plot\n",
    "fig, ax = plt.subplots()\n",
    "bar_width = 0.35\n",
    "x = np.arange(len(labels))\n",
    "rects1 = ax.bar(x - bar_width/2, keydb_times, bar_width, label='KeyDB')\n",
    "\n",
    "rects2 = ax.bar(x + bar_width/2, rqlite_times, bar_width, label='RQLite')\n",
    "\n",
    "ax.set_ylabel('Temps (s)')\n",
    "ax.set_title('Temps pris pour l\\'insertion et la lecture de tout le dataset')\n",
    "ax.set_xticks(x)\n",
    "ax.set_xticklabels(labels)\n",
    "ax.legend()\n",
    "\n",
    "fig.tight_layout()\n",
    "\n",
    "plt.show()"
   ]
  },
  {
   "cell_type": "markdown",
   "id": "655a6ff8bf0ce037",
   "metadata": {},
   "source": [
    "### Observations\n",
    "\n",
    "On remarque que RQLite est plus rapide que KeyDB pour l'insertion de tout le dataset ainsi que la lecture de toutes les clés."
   ]
  },
  {
   "cell_type": "markdown",
   "id": "59496fb8-3a95-4239-8016-b87ee5eeb484",
   "metadata": {},
   "source": [
    "## Remarques\n",
    "\n",
    "Je suis malheureusement déçu d'avoir fait le choix d'utiliser KeyDB comme comparaison à RQLite, car je ne peux pas vraiment exécuter de requêtes complexes comme RQLite le permet (en tant que base relationnelle). Je sais que RQLite possède des modules qui permettent de faire ce type de requêtes, mais j'ai souhaité garder la comparaison à l'outil seul et non avec toutes les extensions existantes, car KeyDB est bien plus avancé que RQLite."
   ]
  },
  {
   "cell_type": "markdown",
   "id": "145cbd4ef1758e65",
   "metadata": {},
   "source": [
    "## Conclusion\n",
    "\n",
    "KeyDB est une base de données clé-valeur rapide et performante, tandis que RQLite est une base de données relationnelle distribuée et tolérante aux pannes.\n",
    "\n",
    "KeyDB est plus rapide que RQLite pour les opérations CRUD, mais cela dépend du type de données et de l'opération effectuée.\n",
    "\n",
    "RQLite permet de faire des requêtes SQL, ce qui est plus pratique pour des données relationnelles, tandis que KeyDB est plus adapté pour des données clé-valeur.\n",
    "\n",
    "En conclusion, le choix entre KeyDB et RQLite dépend du type de données et des opérations que vous souhaitez effectuer."
   ]
  }
 ],
 "metadata": {
  "authors": [
   {
    "name": "Paul MEYER"
   }
  ],
  "kernelspec": {
   "display_name": "Python 3 (ipykernel)",
   "language": "python",
   "name": "python3"
  },
  "language_info": {
   "codemirror_mode": {
    "name": "ipython",
    "version": 3
   },
   "file_extension": ".py",
   "mimetype": "text/x-python",
   "name": "python",
   "nbconvert_exporter": "python",
   "pygments_lexer": "ipython3",
   "version": "3.10.12"
  },
  "title": "Projet traitement large échelle"
 },
 "nbformat": 4,
 "nbformat_minor": 5
}
