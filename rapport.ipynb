{
 "cells": [
  {
   "metadata": {},
   "cell_type": "markdown",
   "source": [
    "# Projet Traitement Large Échelle\n",
    "\n",
    "Pour ce projet j'ai choisi d'utiliser RQLite comme base de données relationelle, et KeyDB comme base de données NoSQL.\n",
    "\n",
    "Nous allons tout d'abord étudier KeyDB, en détaillant son fonctionnement, puis en effectuant des tests de performance.\n",
    "\n",
    "Ensuite, nous ferons de même pour RQLite, et finalement nous comparerons les deux bases de données."
   ],
   "id": "8a77807f92f26ee"
  },
  {
   "metadata": {},
   "cell_type": "markdown",
   "source": [
    "## Présentation de KeyDB\n",
    "\n",
    "KeyDB est une version améliorée de Redis axée sur le multithreading, l'efficacité mémoire et le débit élevé.\n",
    "Il conserve une compatibilité totale avec le protocole, les modules et les scripts Redis, tout en offrant des améliorations de performance telles que la réplication active et le stockage FLASH.\n",
    "\n",
    "Grâce à son architecture MVCC, KeyDB permet l'exécution de requêtes telles que KEYS et SCAN sans bloquer la base de données ni dégrader les performances.\n",
    "En utilisant le même matériel, KeyDB peut atteindre un débit significativement plus élevé que Redis.\n",
    " \n",
    "Son architecture multithread simplifie la répartition des charges et permet une utilisation plus efficace des ressources matérielles. \n",
    "En outre, KeyDB offre une compatibilité avec les derniers développements de Redis, ce qui en fait un substitut direct pour les déploiements existants."
   ],
   "id": "79e920a69dbdea7f"
  },
  {
   "metadata": {},
   "cell_type": "markdown",
   "source": [
    "### Installation et démarrage\n",
    "\n",
    "Il est nécessaire d'avoir docker installé sur votre machine."
   ],
   "id": "6b2c17c8cbd77238"
  },
  {
   "metadata": {
    "jupyter": {
     "is_executing": true
    }
   },
   "cell_type": "code",
   "source": "!docker run -name keydb-server -d eqalpha/keydb keydb-server /etc/keydb/keydb.conf --server-threads 4 --requirepass password",
   "id": "fbc121e30a2defb3",
   "outputs": [],
   "execution_count": null
  },
  {
   "metadata": {},
   "cell_type": "code",
   "outputs": [],
   "execution_count": null,
   "source": "",
   "id": "abe0c95b463dc1f4"
  },
  {
   "metadata": {},
   "cell_type": "markdown",
   "source": [
    "## Présentation de RQLite\n",
    "\n",
    "RQLite est une base de données relationnelle qui combine la simplicité de SQLite avec la fiabilité d'un système distribué robuste. Il est facile à déployer et à utiliser. Basé sur SQLite, il assure le stockage fiable des données tout en offrant des fonctionnalités distribuées.\n",
    "\n",
    "Quelques avantages:\n",
    "\n",
    "- Léger et intégrable: rqlite est une base de données légère qui peut être facilement intégrée aux applications existantes.\n",
    "- Distribué et tolérant aux pannes: rqlite réplique les données sur plusieurs nœuds, ce qui permet de maintenir la disponibilité des données même en cas de défaillance d'un nœud.\n",
    "- Durable: rqlite prend en charge les transactions ACID, ce qui garantit l'intégrité des données.\n",
    "- Scalable: rqlite peut être facilement mise à l'échelle horizontalement en ajoutant des nœuds supplémentaires au cluster."
   ],
   "id": "45857cd31a026c3c"
  }
 ],
 "metadata": {
  "kernelspec": {
   "display_name": "Python 3",
   "language": "python",
   "name": "python3"
  },
  "language_info": {
   "codemirror_mode": {
    "name": "ipython",
    "version": 2
   },
   "file_extension": ".py",
   "mimetype": "text/x-python",
   "name": "python",
   "nbconvert_exporter": "python",
   "pygments_lexer": "ipython2",
   "version": "2.7.6"
  }
 },
 "nbformat": 4,
 "nbformat_minor": 5
}
